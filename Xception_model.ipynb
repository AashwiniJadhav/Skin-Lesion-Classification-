{
  "nbformat": 4,
  "nbformat_minor": 0,
  "metadata": {
    "colab": {
      "provenance": []
    },
    "kernelspec": {
      "name": "python3",
      "display_name": "Python 3"
    },
    "language_info": {
      "name": "python"
    }
  },
  "cells": [
    {
      "cell_type": "markdown",
      "source": [
        "**Xception**"
      ],
      "metadata": {
        "id": "OSGy7isQEbeL"
      }
    },
    {
      "cell_type": "code",
      "execution_count": null,
      "metadata": {
        "id": "tK_t8dalmuJT"
      },
      "outputs": [],
      "source": [
        "import tensorflow as tf\n",
        "from tensorflow import keras\n",
        "from keras.applications import resnet\n",
        "from keras.layers import Flatten , Dense , Activation\n",
        "from keras import optimizers , Sequential\n",
        "from keras.optimizers import Adam\n",
        "from keras import models , layers\n",
        "from keras.layers import Input\n",
        "from keras.models import Model\n",
        "from sklearn.metrics import accuracy_score, confusion_matrix\n",
        "import seaborn as sns\n",
        "import numpy as np\n",
        "import itertools\n",
        "import matplotlib.pyplot as plt"
      ]
    },
    {
      "cell_type": "code",
      "execution_count": null,
      "metadata": {
        "colab": {
          "base_uri": "https://localhost:8080/"
        },
        "id": "O20-wJD8mwfL",
        "outputId": "b4dc37ab-388b-457d-b891-c36072f187c7"
      },
      "outputs": [
        {
          "output_type": "stream",
          "name": "stdout",
          "text": [
            "Mounted at /content/gdrive\n"
          ]
        }
      ],
      "source": [
        "from google.colab import drive\n",
        "drive.mount(\"/content/gdrive\")"
      ]
    },
    {
      "cell_type": "code",
      "execution_count": null,
      "metadata": {
        "id": "r5c5btPWm-jB"
      },
      "outputs": [],
      "source": [
        "train_path='/content/gdrive/MyDrive/Dataset/train'\n",
        "val_path='/content/gdrive/MyDrive/Dataset/val'\n",
        "test_data='/content/gdrive/MyDrive/Dataset/test'"
      ]
    },
    {
      "cell_type": "code",
      "source": [
        "from keras.preprocessing.image import ImageDataGenerator\n",
        "train_datagen = ImageDataGenerator(rescale=1./255,zoom_range=0.15,width_shift_range=0.2,height_shift_range=0.2,shear_range=0.15)\n",
        "val_datagen = ImageDataGenerator(rescale=1./255)\n",
        "testdata_datagen=ImageDataGenerator(rescale=1./255)"
      ],
      "metadata": {
        "id": "q9GTw8cBZMQK"
      },
      "execution_count": null,
      "outputs": []
    },
    {
      "cell_type": "code",
      "source": [
        "train_generator = train_datagen.flow_from_directory(train_path,target_size=(224, 224),batch_size=64,shuffle=True,class_mode='sparse')\n",
        "val_generator = val_datagen.flow_from_directory(val_path,target_size=(224,224),batch_size=64,shuffle=False,class_mode='sparse')\n",
        "test_generator = testdata_datagen.flow_from_directory(test_data,target_size=(224,224),batch_size=64,shuffle=False,class_mode='sparse')"
      ],
      "metadata": {
        "colab": {
          "base_uri": "https://localhost:8080/"
        },
        "id": "DujCh9vWZMVU",
        "outputId": "0c0b5f8e-17b0-4808-f556-e52e27e48858"
      },
      "execution_count": null,
      "outputs": [
        {
          "output_type": "stream",
          "name": "stdout",
          "text": [
            "Found 994 images belonging to 4 classes.\n",
            "Found 343 images belonging to 4 classes.\n",
            "Found 184 images belonging to 4 classes.\n"
          ]
        }
      ]
    },
    {
      "cell_type": "code",
      "execution_count": null,
      "metadata": {
        "id": "US5C-C4nnnQJ",
        "colab": {
          "base_uri": "https://localhost:8080/"
        },
        "outputId": "a44b77f8-36ac-4b2c-9bd3-76d685b07004"
      },
      "outputs": [
        {
          "output_type": "stream",
          "name": "stdout",
          "text": [
            "Downloading data from https://storage.googleapis.com/tensorflow/keras-applications/xception/xception_weights_tf_dim_ordering_tf_kernels_notop.h5\n",
            "83683744/83683744 [==============================] - 0s 0us/step\n"
          ]
        }
      ],
      "source": [
        "xception_model =tf.keras.applications.Xception(pooling='max',\n",
        "                    weights='imagenet',\n",
        "                    include_top=False,\n",
        "                    input_shape=(224,224,3))\n",
        "for layers in xception_model.layers:\n",
        "            layers.trainable=False"
      ]
    },
    {
      "cell_type": "code",
      "execution_count": null,
      "metadata": {
        "id": "aTGb9R2QtSJ2"
      },
      "outputs": [],
      "source": [
        "from keras.layers import Input,BatchNormalization , Dropout"
      ]
    },
    {
      "cell_type": "code",
      "execution_count": null,
      "metadata": {
        "colab": {
          "base_uri": "https://localhost:8080/"
        },
        "id": "T9lXNtcBnreF",
        "outputId": "79e7cf7c-f7d3-49d1-b1ba-fd1cd4976bfa"
      },
      "outputs": [
        {
          "output_type": "stream",
          "name": "stdout",
          "text": [
            "Model: \"sequential\"\n",
            "_________________________________________________________________\n",
            " Layer (type)                Output Shape              Param #   \n",
            "=================================================================\n",
            " xception (Functional)       (None, 2048)              20861480  \n",
            "                                                                 \n",
            " batch_normalization_4 (Batc  (None, 2048)             8192      \n",
            " hNormalization)                                                 \n",
            "                                                                 \n",
            " flatten (Flatten)           (None, 2048)              0         \n",
            "                                                                 \n",
            " dense (Dense)               (None, 256)               524544    \n",
            "                                                                 \n",
            " dense_1 (Dense)             (None, 128)               32896     \n",
            "                                                                 \n",
            " dense_2 (Dense)             (None, 4)                 516       \n",
            "                                                                 \n",
            "=================================================================\n",
            "Total params: 21,427,628\n",
            "Trainable params: 562,052\n",
            "Non-trainable params: 20,865,576\n",
            "_________________________________________________________________\n"
          ]
        }
      ],
      "source": [
        "model = Sequential()\n",
        "model.add(xception_model)\n",
        "model.add(BatchNormalization())\n",
        "model.add(Flatten())\n",
        "model.add(Dense(256,activation='relu'))\n",
        "model.add(Dense(128,activation='relu'))\n",
        "model.add(Dense(4,activation='softmax'))\n",
        "model.summary()"
      ]
    },
    {
      "cell_type": "code",
      "execution_count": null,
      "metadata": {
        "colab": {
          "base_uri": "https://localhost:8080/"
        },
        "id": "RczKcVY4nvaH",
        "outputId": "f02a10c5-bd11-4312-e446-c210b50c6c72"
      },
      "outputs": [
        {
          "output_type": "stream",
          "name": "stderr",
          "text": [
            "/usr/local/lib/python3.10/dist-packages/keras/optimizers/legacy/adam.py:117: UserWarning: The `lr` argument is deprecated, use `learning_rate` instead.\n",
            "  super().__init__(name, **kwargs)\n"
          ]
        }
      ],
      "source": [
        "model.compile(optimizer=Adam(lr=0.0001),\n",
        "              loss='sparse_categorical_crossentropy',\n",
        "              metrics=['accuracy'])"
      ]
    },
    {
      "cell_type": "code",
      "execution_count": null,
      "metadata": {
        "colab": {
          "base_uri": "https://localhost:8080/"
        },
        "id": "Ok1v0E9cnylK",
        "outputId": "6aab9fa7-f985-404a-9e3d-64dd05820f79"
      },
      "outputs": [
        {
          "output_type": "stream",
          "name": "stdout",
          "text": [
            "Epoch 1/100\n",
            "16/16 [==============================] - 270s 16s/step - loss: 1.2960 - accuracy: 0.4376 - val_loss: 0.9615 - val_accuracy: 0.5918\n",
            "Epoch 2/100\n",
            "16/16 [==============================] - 17s 1s/step - loss: 0.7736 - accuracy: 0.6952 - val_loss: 0.7560 - val_accuracy: 0.7026\n",
            "Epoch 3/100\n",
            "16/16 [==============================] - 18s 1s/step - loss: 0.6000 - accuracy: 0.7767 - val_loss: 0.6437 - val_accuracy: 0.7697\n",
            "Epoch 4/100\n",
            "16/16 [==============================] - 17s 1s/step - loss: 0.5409 - accuracy: 0.8008 - val_loss: 0.5766 - val_accuracy: 0.8076\n",
            "Epoch 5/100\n",
            "16/16 [==============================] - 18s 1s/step - loss: 0.4712 - accuracy: 0.8390 - val_loss: 0.5237 - val_accuracy: 0.8105\n",
            "Epoch 6/100\n",
            "16/16 [==============================] - 17s 1s/step - loss: 0.4176 - accuracy: 0.8632 - val_loss: 0.4829 - val_accuracy: 0.8309\n",
            "Epoch 7/100\n",
            "16/16 [==============================] - 20s 1s/step - loss: 0.3533 - accuracy: 0.8823 - val_loss: 0.4435 - val_accuracy: 0.8455\n",
            "Epoch 8/100\n",
            "16/16 [==============================] - 17s 1s/step - loss: 0.3454 - accuracy: 0.8873 - val_loss: 0.4113 - val_accuracy: 0.8397\n",
            "Epoch 9/100\n",
            "16/16 [==============================] - 17s 1s/step - loss: 0.3021 - accuracy: 0.9034 - val_loss: 0.3880 - val_accuracy: 0.8601\n",
            "Epoch 10/100\n",
            "16/16 [==============================] - 17s 1s/step - loss: 0.2601 - accuracy: 0.9195 - val_loss: 0.3671 - val_accuracy: 0.8688\n",
            "Epoch 11/100\n",
            "16/16 [==============================] - 17s 1s/step - loss: 0.2424 - accuracy: 0.9296 - val_loss: 0.3536 - val_accuracy: 0.8630\n",
            "Epoch 12/100\n",
            "16/16 [==============================] - 17s 1s/step - loss: 0.2401 - accuracy: 0.9336 - val_loss: 0.3416 - val_accuracy: 0.8746\n",
            "Epoch 13/100\n",
            "16/16 [==============================] - 18s 1s/step - loss: 0.2136 - accuracy: 0.9396 - val_loss: 0.3253 - val_accuracy: 0.8805\n",
            "Epoch 14/100\n",
            "16/16 [==============================] - 17s 1s/step - loss: 0.2034 - accuracy: 0.9416 - val_loss: 0.3098 - val_accuracy: 0.8805\n",
            "Epoch 15/100\n",
            "16/16 [==============================] - 19s 1s/step - loss: 0.2042 - accuracy: 0.9416 - val_loss: 0.3015 - val_accuracy: 0.8980\n",
            "Epoch 16/100\n",
            "16/16 [==============================] - 17s 1s/step - loss: 0.1724 - accuracy: 0.9567 - val_loss: 0.2911 - val_accuracy: 0.8950\n",
            "Epoch 17/100\n",
            "16/16 [==============================] - 17s 1s/step - loss: 0.1645 - accuracy: 0.9557 - val_loss: 0.2819 - val_accuracy: 0.9096\n",
            "Epoch 18/100\n",
            "16/16 [==============================] - 17s 1s/step - loss: 0.1530 - accuracy: 0.9588 - val_loss: 0.2788 - val_accuracy: 0.9038\n",
            "Epoch 19/100\n",
            "16/16 [==============================] - 17s 1s/step - loss: 0.1404 - accuracy: 0.9648 - val_loss: 0.2654 - val_accuracy: 0.9125\n",
            "Epoch 20/100\n",
            "16/16 [==============================] - 17s 1s/step - loss: 0.1465 - accuracy: 0.9618 - val_loss: 0.2601 - val_accuracy: 0.9125\n",
            "Epoch 21/100\n",
            "16/16 [==============================] - 17s 1s/step - loss: 0.1322 - accuracy: 0.9628 - val_loss: 0.2462 - val_accuracy: 0.9242\n",
            "Epoch 22/100\n",
            "16/16 [==============================] - 17s 1s/step - loss: 0.1217 - accuracy: 0.9698 - val_loss: 0.2460 - val_accuracy: 0.9242\n",
            "Epoch 23/100\n",
            "16/16 [==============================] - 19s 1s/step - loss: 0.1149 - accuracy: 0.9648 - val_loss: 0.2390 - val_accuracy: 0.9271\n",
            "Epoch 24/100\n",
            "16/16 [==============================] - 17s 1s/step - loss: 0.1081 - accuracy: 0.9688 - val_loss: 0.2264 - val_accuracy: 0.9271\n",
            "Epoch 25/100\n",
            "16/16 [==============================] - 17s 1s/step - loss: 0.1222 - accuracy: 0.9618 - val_loss: 0.2193 - val_accuracy: 0.9300\n",
            "Epoch 26/100\n",
            "16/16 [==============================] - 18s 1s/step - loss: 0.1026 - accuracy: 0.9779 - val_loss: 0.2262 - val_accuracy: 0.9242\n",
            "Epoch 27/100\n",
            "16/16 [==============================] - 16s 1s/step - loss: 0.1068 - accuracy: 0.9688 - val_loss: 0.2274 - val_accuracy: 0.9242\n",
            "Epoch 28/100\n",
            "16/16 [==============================] - 17s 1s/step - loss: 0.1037 - accuracy: 0.9728 - val_loss: 0.2248 - val_accuracy: 0.9184\n",
            "Epoch 29/100\n",
            "16/16 [==============================] - 17s 1s/step - loss: 0.0763 - accuracy: 0.9869 - val_loss: 0.2130 - val_accuracy: 0.9242\n",
            "Epoch 30/100\n",
            "16/16 [==============================] - 17s 1s/step - loss: 0.0814 - accuracy: 0.9819 - val_loss: 0.2105 - val_accuracy: 0.9242\n",
            "Epoch 31/100\n",
            "16/16 [==============================] - 18s 1s/step - loss: 0.0773 - accuracy: 0.9829 - val_loss: 0.2134 - val_accuracy: 0.9271\n",
            "Epoch 32/100\n",
            "16/16 [==============================] - 18s 1s/step - loss: 0.0714 - accuracy: 0.9859 - val_loss: 0.2125 - val_accuracy: 0.9271\n",
            "Epoch 33/100\n",
            "16/16 [==============================] - 17s 1s/step - loss: 0.0661 - accuracy: 0.9849 - val_loss: 0.2164 - val_accuracy: 0.9213\n",
            "Epoch 34/100\n",
            "16/16 [==============================] - 17s 1s/step - loss: 0.0711 - accuracy: 0.9849 - val_loss: 0.2185 - val_accuracy: 0.9213\n",
            "Epoch 35/100\n",
            "16/16 [==============================] - 18s 1s/step - loss: 0.0796 - accuracy: 0.9819 - val_loss: 0.1948 - val_accuracy: 0.9329\n",
            "Epoch 36/100\n",
            "16/16 [==============================] - 17s 1s/step - loss: 0.0618 - accuracy: 0.9869 - val_loss: 0.2008 - val_accuracy: 0.9242\n",
            "Epoch 37/100\n",
            "16/16 [==============================] - 18s 1s/step - loss: 0.0612 - accuracy: 0.9899 - val_loss: 0.2027 - val_accuracy: 0.9329\n",
            "Epoch 38/100\n",
            "16/16 [==============================] - 16s 1s/step - loss: 0.0642 - accuracy: 0.9869 - val_loss: 0.2024 - val_accuracy: 0.9329\n",
            "Epoch 39/100\n",
            "16/16 [==============================] - 18s 1s/step - loss: 0.0481 - accuracy: 0.9930 - val_loss: 0.1998 - val_accuracy: 0.9359\n",
            "Epoch 40/100\n",
            "16/16 [==============================] - 17s 1s/step - loss: 0.0608 - accuracy: 0.9829 - val_loss: 0.1879 - val_accuracy: 0.9446\n",
            "Epoch 41/100\n",
            "16/16 [==============================] - 17s 1s/step - loss: 0.0492 - accuracy: 0.9930 - val_loss: 0.1917 - val_accuracy: 0.9388\n",
            "Epoch 42/100\n",
            "16/16 [==============================] - 17s 1s/step - loss: 0.0563 - accuracy: 0.9809 - val_loss: 0.1995 - val_accuracy: 0.9359\n",
            "Epoch 43/100\n",
            "16/16 [==============================] - 18s 1s/step - loss: 0.0508 - accuracy: 0.9920 - val_loss: 0.1950 - val_accuracy: 0.9417\n",
            "Epoch 44/100\n",
            "16/16 [==============================] - 17s 1s/step - loss: 0.0521 - accuracy: 0.9879 - val_loss: 0.2008 - val_accuracy: 0.9329\n",
            "Epoch 45/100\n",
            "16/16 [==============================] - 18s 1s/step - loss: 0.0443 - accuracy: 0.9899 - val_loss: 0.1945 - val_accuracy: 0.9446\n",
            "Epoch 46/100\n",
            "16/16 [==============================] - 17s 1s/step - loss: 0.0418 - accuracy: 0.9920 - val_loss: 0.1824 - val_accuracy: 0.9417\n",
            "Epoch 47/100\n",
            "16/16 [==============================] - 17s 1s/step - loss: 0.0459 - accuracy: 0.9859 - val_loss: 0.1818 - val_accuracy: 0.9475\n",
            "Epoch 48/100\n",
            "16/16 [==============================] - 17s 1s/step - loss: 0.0368 - accuracy: 0.9950 - val_loss: 0.1882 - val_accuracy: 0.9359\n",
            "Epoch 49/100\n",
            "16/16 [==============================] - 17s 1s/step - loss: 0.0454 - accuracy: 0.9920 - val_loss: 0.1879 - val_accuracy: 0.9417\n",
            "Epoch 50/100\n",
            "16/16 [==============================] - 17s 1s/step - loss: 0.0427 - accuracy: 0.9920 - val_loss: 0.1753 - val_accuracy: 0.9534\n",
            "Epoch 51/100\n",
            "16/16 [==============================] - 17s 1s/step - loss: 0.0341 - accuracy: 0.9950 - val_loss: 0.1725 - val_accuracy: 0.9446\n",
            "Epoch 52/100\n",
            "16/16 [==============================] - 16s 1s/step - loss: 0.0380 - accuracy: 0.9930 - val_loss: 0.1782 - val_accuracy: 0.9417\n",
            "Epoch 53/100\n",
            "16/16 [==============================] - 17s 1s/step - loss: 0.0395 - accuracy: 0.9909 - val_loss: 0.1775 - val_accuracy: 0.9475\n",
            "Epoch 54/100\n",
            "16/16 [==============================] - 17s 1s/step - loss: 0.0340 - accuracy: 0.9930 - val_loss: 0.1863 - val_accuracy: 0.9446\n",
            "Epoch 55/100\n",
            "16/16 [==============================] - 17s 1s/step - loss: 0.0327 - accuracy: 0.9960 - val_loss: 0.1895 - val_accuracy: 0.9475\n",
            "Epoch 56/100\n",
            "16/16 [==============================] - 19s 1s/step - loss: 0.0341 - accuracy: 0.9950 - val_loss: 0.1792 - val_accuracy: 0.9446\n",
            "Epoch 57/100\n",
            "16/16 [==============================] - 17s 1s/step - loss: 0.0257 - accuracy: 0.9960 - val_loss: 0.1825 - val_accuracy: 0.9446\n",
            "Epoch 58/100\n",
            "16/16 [==============================] - 17s 1s/step - loss: 0.0347 - accuracy: 0.9909 - val_loss: 0.1911 - val_accuracy: 0.9417\n",
            "Epoch 59/100\n",
            "16/16 [==============================] - 17s 1s/step - loss: 0.0319 - accuracy: 0.9909 - val_loss: 0.2001 - val_accuracy: 0.9417\n",
            "Epoch 60/100\n",
            "16/16 [==============================] - 16s 1s/step - loss: 0.0261 - accuracy: 0.9960 - val_loss: 0.2059 - val_accuracy: 0.9475\n",
            "Epoch 61/100\n",
            "16/16 [==============================] - 17s 1s/step - loss: 0.0302 - accuracy: 0.9920 - val_loss: 0.1828 - val_accuracy: 0.9475\n",
            "Epoch 62/100\n",
            "16/16 [==============================] - 18s 1s/step - loss: 0.0283 - accuracy: 0.9960 - val_loss: 0.1793 - val_accuracy: 0.9563\n",
            "Epoch 63/100\n",
            "16/16 [==============================] - 18s 1s/step - loss: 0.0306 - accuracy: 0.9920 - val_loss: 0.1806 - val_accuracy: 0.9534\n",
            "Epoch 64/100\n",
            "16/16 [==============================] - 17s 1s/step - loss: 0.0303 - accuracy: 0.9950 - val_loss: 0.1774 - val_accuracy: 0.9475\n",
            "Epoch 65/100\n",
            "16/16 [==============================] - 18s 1s/step - loss: 0.0282 - accuracy: 0.9950 - val_loss: 0.1749 - val_accuracy: 0.9504\n",
            "Epoch 66/100\n",
            "16/16 [==============================] - 17s 1s/step - loss: 0.0245 - accuracy: 0.9960 - val_loss: 0.1697 - val_accuracy: 0.9563\n",
            "Epoch 67/100\n",
            "16/16 [==============================] - 17s 1s/step - loss: 0.0340 - accuracy: 0.9920 - val_loss: 0.1859 - val_accuracy: 0.9534\n",
            "Epoch 68/100\n",
            "16/16 [==============================] - 16s 1s/step - loss: 0.0220 - accuracy: 0.9960 - val_loss: 0.1772 - val_accuracy: 0.9534\n",
            "Epoch 69/100\n",
            "16/16 [==============================] - 17s 1s/step - loss: 0.0164 - accuracy: 0.9970 - val_loss: 0.1783 - val_accuracy: 0.9534\n",
            "Epoch 70/100\n",
            "16/16 [==============================] - 17s 1s/step - loss: 0.0210 - accuracy: 0.9960 - val_loss: 0.2007 - val_accuracy: 0.9534\n",
            "Epoch 71/100\n",
            "16/16 [==============================] - 16s 1s/step - loss: 0.0237 - accuracy: 0.9950 - val_loss: 0.1985 - val_accuracy: 0.9475\n",
            "Epoch 72/100\n",
            "16/16 [==============================] - 18s 1s/step - loss: 0.0211 - accuracy: 0.9950 - val_loss: 0.2002 - val_accuracy: 0.9534\n",
            "Epoch 73/100\n",
            "16/16 [==============================] - 17s 1s/step - loss: 0.0177 - accuracy: 0.9990 - val_loss: 0.2026 - val_accuracy: 0.9563\n",
            "Epoch 74/100\n",
            "16/16 [==============================] - 17s 1s/step - loss: 0.0197 - accuracy: 0.9980 - val_loss: 0.1976 - val_accuracy: 0.9475\n",
            "Epoch 75/100\n",
            "16/16 [==============================] - 17s 1s/step - loss: 0.0216 - accuracy: 0.9960 - val_loss: 0.1912 - val_accuracy: 0.9534\n",
            "Epoch 76/100\n",
            "16/16 [==============================] - 17s 1s/step - loss: 0.0235 - accuracy: 0.9970 - val_loss: 0.1841 - val_accuracy: 0.9534\n",
            "Epoch 77/100\n",
            "16/16 [==============================] - 17s 1s/step - loss: 0.0206 - accuracy: 0.9970 - val_loss: 0.1878 - val_accuracy: 0.9504\n",
            "Epoch 78/100\n",
            "16/16 [==============================] - 17s 1s/step - loss: 0.0150 - accuracy: 0.9990 - val_loss: 0.1769 - val_accuracy: 0.9563\n",
            "Epoch 79/100\n",
            "16/16 [==============================] - 17s 1s/step - loss: 0.0202 - accuracy: 0.9970 - val_loss: 0.1784 - val_accuracy: 0.9475\n",
            "Epoch 80/100\n",
            "16/16 [==============================] - 17s 1s/step - loss: 0.0146 - accuracy: 0.9990 - val_loss: 0.1754 - val_accuracy: 0.9475\n",
            "Epoch 81/100\n",
            "16/16 [==============================] - 18s 1s/step - loss: 0.0235 - accuracy: 0.9950 - val_loss: 0.1893 - val_accuracy: 0.9504\n",
            "Epoch 82/100\n",
            "16/16 [==============================] - 18s 1s/step - loss: 0.0177 - accuracy: 0.9960 - val_loss: 0.1841 - val_accuracy: 0.9475\n",
            "Epoch 83/100\n",
            "16/16 [==============================] - 17s 1s/step - loss: 0.0248 - accuracy: 0.9950 - val_loss: 0.1936 - val_accuracy: 0.9475\n",
            "Epoch 84/100\n",
            "16/16 [==============================] - 17s 1s/step - loss: 0.0175 - accuracy: 0.9970 - val_loss: 0.2086 - val_accuracy: 0.9475\n",
            "Epoch 85/100\n",
            "16/16 [==============================] - 17s 1s/step - loss: 0.0127 - accuracy: 0.9960 - val_loss: 0.2020 - val_accuracy: 0.9475\n",
            "Epoch 86/100\n",
            "16/16 [==============================] - 17s 1s/step - loss: 0.0170 - accuracy: 0.9970 - val_loss: 0.2117 - val_accuracy: 0.9475\n",
            "Epoch 87/100\n",
            "16/16 [==============================] - 16s 1s/step - loss: 0.0176 - accuracy: 0.9990 - val_loss: 0.2211 - val_accuracy: 0.9504\n",
            "Epoch 88/100\n",
            "16/16 [==============================] - 17s 1s/step - loss: 0.0174 - accuracy: 0.9990 - val_loss: 0.2071 - val_accuracy: 0.9504\n",
            "Epoch 89/100\n",
            "16/16 [==============================] - 18s 1s/step - loss: 0.0226 - accuracy: 0.9940 - val_loss: 0.1885 - val_accuracy: 0.9563\n",
            "Epoch 90/100\n",
            "16/16 [==============================] - 17s 1s/step - loss: 0.0156 - accuracy: 0.9980 - val_loss: 0.1932 - val_accuracy: 0.9504\n",
            "Epoch 91/100\n",
            "16/16 [==============================] - 17s 1s/step - loss: 0.0150 - accuracy: 0.9980 - val_loss: 0.2043 - val_accuracy: 0.9475\n",
            "Epoch 92/100\n",
            "16/16 [==============================] - 17s 1s/step - loss: 0.0222 - accuracy: 0.9940 - val_loss: 0.2198 - val_accuracy: 0.9504\n",
            "Epoch 93/100\n",
            "16/16 [==============================] - 17s 1s/step - loss: 0.0175 - accuracy: 0.9970 - val_loss: 0.2175 - val_accuracy: 0.9475\n",
            "Epoch 94/100\n",
            "16/16 [==============================] - 17s 1s/step - loss: 0.0133 - accuracy: 0.9990 - val_loss: 0.2015 - val_accuracy: 0.9475\n",
            "Epoch 95/100\n",
            "16/16 [==============================] - 16s 1s/step - loss: 0.0151 - accuracy: 0.9980 - val_loss: 0.2142 - val_accuracy: 0.9534\n",
            "Epoch 96/100\n",
            "16/16 [==============================] - 17s 1s/step - loss: 0.0164 - accuracy: 0.9950 - val_loss: 0.2097 - val_accuracy: 0.9504\n",
            "Epoch 97/100\n",
            "16/16 [==============================] - 17s 1s/step - loss: 0.0149 - accuracy: 0.9960 - val_loss: 0.1984 - val_accuracy: 0.9504\n",
            "Epoch 98/100\n",
            "16/16 [==============================] - 18s 1s/step - loss: 0.0132 - accuracy: 0.9980 - val_loss: 0.2035 - val_accuracy: 0.9475\n",
            "Epoch 99/100\n",
            "16/16 [==============================] - 17s 1s/step - loss: 0.0139 - accuracy: 0.9980 - val_loss: 0.1887 - val_accuracy: 0.9446\n",
            "Epoch 100/100\n",
            "16/16 [==============================] - 17s 1s/step - loss: 0.0205 - accuracy: 0.9960 - val_loss: 0.1889 - val_accuracy: 0.9475\n"
          ]
        }
      ],
      "source": [
        "history = model.fit(train_generator,\n",
        "                    validation_data=val_generator,\n",
        "                    epochs=100)"
      ]
    },
    {
      "cell_type": "code",
      "execution_count": null,
      "metadata": {
        "colab": {
          "base_uri": "https://localhost:8080/"
        },
        "id": "QF149gwnn2lZ",
        "outputId": "185a5c37-4d1a-4dfa-b121-bcee72f9f0af"
      },
      "outputs": [
        {
          "output_type": "stream",
          "name": "stdout",
          "text": [
            "3/3 [==============================] - 29s 14s/step - loss: 0.2713 - accuracy: 0.9402\n"
          ]
        },
        {
          "output_type": "execute_result",
          "data": {
            "text/plain": [
              "[0.2712867558002472, 0.9402173757553101]"
            ]
          },
          "metadata": {},
          "execution_count": 11
        }
      ],
      "source": [
        "model.evaluate(test_generator)"
      ]
    },
    {
      "cell_type": "code",
      "source": [
        "Y_pred = model.predict(test_generator)"
      ],
      "metadata": {
        "id": "pYWVesY7gviS",
        "colab": {
          "base_uri": "https://localhost:8080/"
        },
        "outputId": "b6c76610-9109-42fc-dd15-50b71cd0f6ac"
      },
      "execution_count": null,
      "outputs": [
        {
          "output_type": "stream",
          "name": "stdout",
          "text": [
            "3/3 [==============================] - 1s 257ms/step\n"
          ]
        }
      ]
    },
    {
      "cell_type": "code",
      "source": [
        "y_pred = np.argmax(Y_pred, axis=1)"
      ],
      "metadata": {
        "id": "xSR4LvdFgvZW"
      },
      "execution_count": null,
      "outputs": []
    },
    {
      "cell_type": "code",
      "source": [
        "y_true = test_generator.classes"
      ],
      "metadata": {
        "id": "eqSVj6JcgvV5"
      },
      "execution_count": null,
      "outputs": []
    },
    {
      "cell_type": "code",
      "source": [
        "from sklearn.metrics import ConfusionMatrixDisplay\n",
        "from sklearn.metrics import confusion_matrix\n",
        "from sklearn.metrics import classification_report"
      ],
      "metadata": {
        "id": "apET5mDegvTp"
      },
      "execution_count": null,
      "outputs": []
    },
    {
      "cell_type": "code",
      "source": [
        "cm = confusion_matrix(y_true, y_pred)"
      ],
      "metadata": {
        "id": "dei4zUD-gvQx"
      },
      "execution_count": null,
      "outputs": []
    },
    {
      "cell_type": "code",
      "source": [
        "import pandas as pd\n",
        "cm_df = pd.DataFrame(cm,\n",
        "                     index = ['CP','ME','MP','NL'],\n",
        "                     columns = ['CP','ME','MP','NL'])"
      ],
      "metadata": {
        "id": "o6dfG1BXiHz8"
      },
      "execution_count": null,
      "outputs": []
    },
    {
      "cell_type": "code",
      "execution_count": null,
      "metadata": {
        "colab": {
          "base_uri": "https://localhost:8080/",
          "height": 259
        },
        "id": "cz_CiZftoEul",
        "outputId": "f9e41749-5ec1-43a8-964f-32e8b2cd8b2c"
      },
      "outputs": [
        {
          "output_type": "stream",
          "name": "stderr",
          "text": [
            "<ipython-input-18-5b2de8265392>:5: MatplotlibDeprecationWarning: Auto-removal of overlapping axes is deprecated since 3.6 and will be removed two minor releases later; explicitly call ax.remove() as needed.\n",
            "  plt.subplot(1,3,1)\n"
          ]
        },
        {
          "output_type": "display_data",
          "data": {
            "text/plain": [
              "<Figure size 1150x250 with 4 Axes>"
            ],
            "image/png": "[encoded data removed]"
          },
          "metadata": {}
        }
      ],
      "source": [
        "import keras\n",
        "from matplotlib import pyplot as plt\n",
        "\n",
        "plt.subplots(figsize=(11.5,2.5))\n",
        "plt.subplot(1,3,1)\n",
        "plt.plot(history.history['accuracy'])\n",
        "plt.plot(history.history['val_accuracy'])\n",
        "plt.title('Xception Model Accuracy')\n",
        "plt.ylabel('Accuracy')\n",
        "plt.xlabel('Number of Epochs')\n",
        "plt.legend(['Train_Acc', 'Val_Acc'], loc='lower right')\n",
        "\n",
        "plt.subplot(1,3,2)\n",
        "plt.plot(history.history['loss'])\n",
        "plt.plot(history.history['val_loss'])\n",
        "plt.title('Xception Model Loss')\n",
        "plt.ylabel('Loss')\n",
        "plt.xlabel('Number of Epochs')\n",
        "plt.legend(['Train_Loss', 'Val_Loss'], loc='upper right')\n",
        "\n",
        "plt.subplot(1,3,3)\n",
        "#plt.figure(figsize=(3.5,2.5))\n",
        "colormap = sns.color_palette(\"Greens\")\n",
        "sns.heatmap(cm_df,cmap=colormap, annot=True)\n",
        "plt.title('Xception Confusion Matrix')\n",
        "plt.ylabel('True Labels')\n",
        "plt.xlabel('Predicted Labels')\n",
        "plt.show()"
      ]
    },
    {
      "cell_type": "code",
      "source": [
        "print(classification_report(y_true, y_pred))"
      ],
      "metadata": {
        "colab": {
          "base_uri": "https://localhost:8080/"
        },
        "id": "WbykZ6qYZtlS",
        "outputId": "4197686a-5e4b-4997-aba4-f75660a32bf4"
      },
      "execution_count": null,
      "outputs": [
        {
          "output_type": "stream",
          "name": "stdout",
          "text": [
            "              precision    recall  f1-score   support\n",
            "\n",
            "           0       0.95      0.95      0.95        37\n",
            "           1       0.87      1.00      0.93        27\n",
            "           2       0.95      0.92      0.94        63\n",
            "           3       0.96      0.93      0.95        57\n",
            "\n",
            "    accuracy                           0.94       184\n",
            "   macro avg       0.93      0.95      0.94       184\n",
            "weighted avg       0.94      0.94      0.94       184\n",
            "\n"
          ]
        }
      ]
    }
  ]
}