{
  "nbformat": 4,
  "nbformat_minor": 0,
  "metadata": {
    "colab": {
      "provenance": []
    },
    "kernelspec": {
      "name": "python3",
      "display_name": "Python 3"
    },
    "language_info": {
      "name": "python"
    }
  },
  "cells": [
    {
      "cell_type": "markdown",
      "source": [
        "**InceptionV3**"
      ],
      "metadata": {
        "id": "aO0xkqKWEtvz"
      }
    },
    {
      "cell_type": "code",
      "execution_count": null,
      "metadata": {
        "id": "gvenvXl_KUhv"
      },
      "outputs": [],
      "source": [
        "import tensorflow as tf\n",
        "from tensorflow import keras\n",
        "from keras.applications import resnet\n",
        "from keras.layers import Flatten , Dense , Activation\n",
        "from keras import optimizers , Sequential\n",
        "from keras.optimizers import Adam\n",
        "from keras import models , layers\n",
        "from keras.layers import Input\n",
        "from keras.models import Model\n",
        "from sklearn.metrics import accuracy_score, confusion_matrix\n",
        "import seaborn as sns\n",
        "import numpy as np\n",
        "import itertools\n",
        "import matplotlib.pyplot as plt"
      ]
    },
    {
      "cell_type": "code",
      "execution_count": null,
      "metadata": {
        "colab": {
          "base_uri": "https://localhost:8080/"
        },
        "outputId": "4336be4f-4dc7-497c-ecee-9c19a5c1963a",
        "id": "AxbssdHTKUhx"
      },
      "outputs": [
        {
          "output_type": "stream",
          "name": "stdout",
          "text": [
            "Mounted at /content/gdrive\n"
          ]
        }
      ],
      "source": [
        "from google.colab import drive\n",
        "drive.mount(\"/content/gdrive\")"
      ]
    },
    {
      "cell_type": "code",
      "execution_count": null,
      "metadata": {
        "id": "NtWO4HfuKUhy"
      },
      "outputs": [],
      "source": [
        "train_path='/content/gdrive/MyDrive/Dataset/train'\n",
        "val_path='/content/gdrive/MyDrive/Dataset/val'\n",
        "test_data='/content/gdrive/MyDrive/Dataset/test'"
      ]
    },
    {
      "cell_type": "code",
      "source": [
        "from keras.preprocessing.image import ImageDataGenerator\n",
        "train_datagen = ImageDataGenerator(rescale=1./255,zoom_range=0.15,width_shift_range=0.2,height_shift_range=0.2,shear_range=0.15)\n",
        "val_datagen = ImageDataGenerator(rescale=1./255)\n",
        "testdata_datagen=ImageDataGenerator(rescale=1./255)"
      ],
      "metadata": {
        "id": "W1jCjOR5E5A5"
      },
      "execution_count": null,
      "outputs": []
    },
    {
      "cell_type": "code",
      "source": [
        "train_generator = train_datagen.flow_from_directory(train_path,target_size=(224, 224),batch_size=64,shuffle=True,class_mode='sparse')\n",
        "val_generator = val_datagen.flow_from_directory(val_path,target_size=(224,224),batch_size=64,shuffle=False,class_mode='sparse')\n",
        "test_generator = testdata_datagen.flow_from_directory(test_data,target_size=(224,224),batch_size=64,shuffle=False,class_mode='sparse')"
      ],
      "metadata": {
        "colab": {
          "base_uri": "https://localhost:8080/"
        },
        "outputId": "38a522fb-2c59-4973-970c-c5454da4aa04",
        "id": "MNoScVPgE5A5"
      },
      "execution_count": null,
      "outputs": [
        {
          "output_type": "stream",
          "name": "stdout",
          "text": [
            "Found 994 images belonging to 4 classes.\n",
            "Found 343 images belonging to 4 classes.\n",
            "Found 184 images belonging to 4 classes.\n"
          ]
        }
      ]
    },
    {
      "cell_type": "code",
      "execution_count": null,
      "metadata": {
        "colab": {
          "base_uri": "https://localhost:8080/"
        },
        "id": "0JHxyseFKUhz",
        "outputId": "62948412-878d-46d0-e437-9f0289daa713"
      },
      "outputs": [
        {
          "output_type": "stream",
          "name": "stdout",
          "text": [
            "Downloading data from https://storage.googleapis.com/tensorflow/keras-applications/inception_v3/inception_v3_weights_tf_dim_ordering_tf_kernels_notop.h5\n",
            "87910968/87910968 [==============================] - 5s 0us/step\n"
          ]
        }
      ],
      "source": [
        "inc_model = tf.keras.applications.InceptionV3(pooling='max',\n",
        "                    weights='imagenet',\n",
        "                    include_top=False,\n",
        "                    input_shape=(224,224,3))\n",
        "for layers in inc_model.layers:\n",
        "            layers.trainable=False"
      ]
    },
    {
      "cell_type": "code",
      "execution_count": null,
      "metadata": {
        "id": "9q0Z9-lSKUhz"
      },
      "outputs": [],
      "source": [
        "from keras.layers import Input,BatchNormalization , Dropout"
      ]
    },
    {
      "cell_type": "code",
      "execution_count": null,
      "metadata": {
        "colab": {
          "base_uri": "https://localhost:8080/"
        },
        "outputId": "16ba570c-de51-454e-f19a-135356e5f92b",
        "id": "-XEmB02vKUhz"
      },
      "outputs": [
        {
          "output_type": "stream",
          "name": "stdout",
          "text": [
            "Model: \"sequential\"\n",
            "_________________________________________________________________\n",
            " Layer (type)                Output Shape              Param #   \n",
            "=================================================================\n",
            " inception_v3 (Functional)   (None, 2048)              21802784  \n",
            "                                                                 \n",
            " batch_normalization_94 (Bat  (None, 2048)             8192      \n",
            " chNormalization)                                                \n",
            "                                                                 \n",
            " flatten (Flatten)           (None, 2048)              0         \n",
            "                                                                 \n",
            " dense (Dense)               (None, 256)               524544    \n",
            "                                                                 \n",
            " dense_1 (Dense)             (None, 128)               32896     \n",
            "                                                                 \n",
            " dense_2 (Dense)             (None, 4)                 516       \n",
            "                                                                 \n",
            "=================================================================\n",
            "Total params: 22,368,932\n",
            "Trainable params: 562,052\n",
            "Non-trainable params: 21,806,880\n",
            "_________________________________________________________________\n"
          ]
        }
      ],
      "source": [
        "model = Sequential()\n",
        "model.add(inc_model)\n",
        "model.add(BatchNormalization())\n",
        "model.add(Flatten())\n",
        "model.add(Dense(256,activation='relu'))\n",
        "model.add(Dense(128,activation='relu'))\n",
        "model.add(Dense(4,activation='softmax'))\n",
        "model.summary()"
      ]
    },
    {
      "cell_type": "code",
      "execution_count": null,
      "metadata": {
        "colab": {
          "base_uri": "https://localhost:8080/"
        },
        "outputId": "f977a61b-baed-443c-ff24-b00115cc4bb2",
        "id": "PiVbNfSFKUh0"
      },
      "outputs": [
        {
          "output_type": "stream",
          "name": "stderr",
          "text": [
            "/usr/local/lib/python3.10/dist-packages/keras/optimizers/legacy/adam.py:117: UserWarning: The `lr` argument is deprecated, use `learning_rate` instead.\n",
            "  super().__init__(name, **kwargs)\n"
          ]
        }
      ],
      "source": [
        "model.compile(optimizer=Adam(lr=0.0001),\n",
        "              loss='sparse_categorical_crossentropy',\n",
        "              metrics=['accuracy'])"
      ]
    },
    {
      "cell_type": "code",
      "execution_count": null,
      "metadata": {
        "colab": {
          "base_uri": "https://localhost:8080/"
        },
        "outputId": "10529867-ffd5-4387-f8b0-83ff1e9d4af2",
        "id": "Jbw-ZbBsKUh0"
      },
      "outputs": [
        {
          "output_type": "stream",
          "name": "stdout",
          "text": [
            "Epoch 1/100\n",
            "16/16 [==============================] - 691s 43s/step - loss: 1.2111 - accuracy: 0.4708 - val_loss: 1.8247 - val_accuracy: 0.5219\n",
            "Epoch 2/100\n",
            "16/16 [==============================] - 16s 984ms/step - loss: 0.7926 - accuracy: 0.6871 - val_loss: 0.9079 - val_accuracy: 0.6560\n",
            "Epoch 3/100\n",
            "16/16 [==============================] - 16s 981ms/step - loss: 0.6152 - accuracy: 0.7757 - val_loss: 0.6395 - val_accuracy: 0.7493\n",
            "Epoch 4/100\n",
            "16/16 [==============================] - 16s 1s/step - loss: 0.5415 - accuracy: 0.8129 - val_loss: 0.5696 - val_accuracy: 0.7580\n",
            "Epoch 5/100\n",
            "16/16 [==============================] - 16s 976ms/step - loss: 0.4873 - accuracy: 0.8300 - val_loss: 0.5108 - val_accuracy: 0.7755\n",
            "Epoch 6/100\n",
            "16/16 [==============================] - 16s 978ms/step - loss: 0.4326 - accuracy: 0.8431 - val_loss: 0.4728 - val_accuracy: 0.8047\n",
            "Epoch 7/100\n",
            "16/16 [==============================] - 17s 1s/step - loss: 0.4065 - accuracy: 0.8632 - val_loss: 0.4454 - val_accuracy: 0.8192\n",
            "Epoch 8/100\n",
            "16/16 [==============================] - 16s 978ms/step - loss: 0.3630 - accuracy: 0.8682 - val_loss: 0.4222 - val_accuracy: 0.8280\n",
            "Epoch 9/100\n",
            "16/16 [==============================] - 16s 983ms/step - loss: 0.3164 - accuracy: 0.8883 - val_loss: 0.3984 - val_accuracy: 0.8426\n",
            "Epoch 10/100\n",
            "16/16 [==============================] - 16s 974ms/step - loss: 0.2962 - accuracy: 0.9085 - val_loss: 0.3795 - val_accuracy: 0.8513\n",
            "Epoch 11/100\n",
            "16/16 [==============================] - 17s 1s/step - loss: 0.2906 - accuracy: 0.9074 - val_loss: 0.3610 - val_accuracy: 0.8601\n",
            "Epoch 12/100\n",
            "16/16 [==============================] - 16s 978ms/step - loss: 0.2731 - accuracy: 0.9135 - val_loss: 0.3515 - val_accuracy: 0.8601\n",
            "Epoch 13/100\n",
            "16/16 [==============================] - 15s 972ms/step - loss: 0.2511 - accuracy: 0.9205 - val_loss: 0.3411 - val_accuracy: 0.8776\n",
            "Epoch 14/100\n",
            "16/16 [==============================] - 16s 976ms/step - loss: 0.2647 - accuracy: 0.9125 - val_loss: 0.3273 - val_accuracy: 0.8863\n",
            "Epoch 15/100\n",
            "16/16 [==============================] - 15s 970ms/step - loss: 0.2186 - accuracy: 0.9286 - val_loss: 0.3209 - val_accuracy: 0.8863\n",
            "Epoch 16/100\n",
            "16/16 [==============================] - 17s 1s/step - loss: 0.2118 - accuracy: 0.9326 - val_loss: 0.3103 - val_accuracy: 0.8950\n",
            "Epoch 17/100\n",
            "16/16 [==============================] - 16s 993ms/step - loss: 0.2136 - accuracy: 0.9316 - val_loss: 0.3020 - val_accuracy: 0.8921\n",
            "Epoch 18/100\n",
            "16/16 [==============================] - 16s 983ms/step - loss: 0.1919 - accuracy: 0.9416 - val_loss: 0.2927 - val_accuracy: 0.8921\n",
            "Epoch 19/100\n",
            "16/16 [==============================] - 16s 974ms/step - loss: 0.1799 - accuracy: 0.9477 - val_loss: 0.2828 - val_accuracy: 0.8921\n",
            "Epoch 20/100\n",
            "16/16 [==============================] - 16s 977ms/step - loss: 0.1849 - accuracy: 0.9437 - val_loss: 0.2944 - val_accuracy: 0.9038\n",
            "Epoch 21/100\n",
            "16/16 [==============================] - 16s 987ms/step - loss: 0.1555 - accuracy: 0.9507 - val_loss: 0.2846 - val_accuracy: 0.9067\n",
            "Epoch 22/100\n",
            "16/16 [==============================] - 16s 979ms/step - loss: 0.1386 - accuracy: 0.9628 - val_loss: 0.2774 - val_accuracy: 0.9125\n",
            "Epoch 23/100\n",
            "16/16 [==============================] - 16s 989ms/step - loss: 0.1502 - accuracy: 0.9577 - val_loss: 0.2763 - val_accuracy: 0.9096\n",
            "Epoch 24/100\n",
            "16/16 [==============================] - 16s 999ms/step - loss: 0.1368 - accuracy: 0.9638 - val_loss: 0.2812 - val_accuracy: 0.9067\n",
            "Epoch 25/100\n",
            "16/16 [==============================] - 16s 995ms/step - loss: 0.1206 - accuracy: 0.9698 - val_loss: 0.2697 - val_accuracy: 0.9125\n",
            "Epoch 26/100\n",
            "16/16 [==============================] - 16s 990ms/step - loss: 0.1260 - accuracy: 0.9648 - val_loss: 0.2674 - val_accuracy: 0.9125\n",
            "Epoch 27/100\n",
            "16/16 [==============================] - 16s 989ms/step - loss: 0.1107 - accuracy: 0.9748 - val_loss: 0.2585 - val_accuracy: 0.9242\n",
            "Epoch 28/100\n",
            "16/16 [==============================] - 16s 980ms/step - loss: 0.1027 - accuracy: 0.9738 - val_loss: 0.2584 - val_accuracy: 0.9213\n",
            "Epoch 29/100\n",
            "16/16 [==============================] - 16s 972ms/step - loss: 0.1133 - accuracy: 0.9648 - val_loss: 0.2554 - val_accuracy: 0.9213\n",
            "Epoch 30/100\n",
            "16/16 [==============================] - 16s 998ms/step - loss: 0.1019 - accuracy: 0.9728 - val_loss: 0.2692 - val_accuracy: 0.9213\n",
            "Epoch 31/100\n",
            "16/16 [==============================] - 16s 983ms/step - loss: 0.1090 - accuracy: 0.9688 - val_loss: 0.2735 - val_accuracy: 0.9125\n",
            "Epoch 32/100\n",
            "16/16 [==============================] - 16s 974ms/step - loss: 0.1062 - accuracy: 0.9668 - val_loss: 0.2725 - val_accuracy: 0.9155\n",
            "Epoch 33/100\n",
            "16/16 [==============================] - 15s 969ms/step - loss: 0.1076 - accuracy: 0.9698 - val_loss: 0.2654 - val_accuracy: 0.9155\n",
            "Epoch 34/100\n",
            "16/16 [==============================] - 16s 984ms/step - loss: 0.0821 - accuracy: 0.9809 - val_loss: 0.2661 - val_accuracy: 0.9271\n",
            "Epoch 35/100\n",
            "16/16 [==============================] - 17s 1s/step - loss: 0.0864 - accuracy: 0.9718 - val_loss: 0.2644 - val_accuracy: 0.9213\n",
            "Epoch 36/100\n",
            "16/16 [==============================] - 17s 1s/step - loss: 0.0897 - accuracy: 0.9779 - val_loss: 0.2632 - val_accuracy: 0.9184\n",
            "Epoch 37/100\n",
            "16/16 [==============================] - 16s 1s/step - loss: 0.0880 - accuracy: 0.9769 - val_loss: 0.2542 - val_accuracy: 0.9213\n",
            "Epoch 38/100\n",
            "16/16 [==============================] - 16s 985ms/step - loss: 0.0858 - accuracy: 0.9779 - val_loss: 0.2466 - val_accuracy: 0.9271\n",
            "Epoch 39/100\n",
            "16/16 [==============================] - 16s 991ms/step - loss: 0.0717 - accuracy: 0.9789 - val_loss: 0.2594 - val_accuracy: 0.9155\n",
            "Epoch 40/100\n",
            "16/16 [==============================] - 16s 981ms/step - loss: 0.0901 - accuracy: 0.9748 - val_loss: 0.2501 - val_accuracy: 0.9242\n",
            "Epoch 41/100\n",
            "16/16 [==============================] - 16s 1s/step - loss: 0.0720 - accuracy: 0.9829 - val_loss: 0.2489 - val_accuracy: 0.9271\n",
            "Epoch 42/100\n",
            "16/16 [==============================] - 16s 989ms/step - loss: 0.0796 - accuracy: 0.9789 - val_loss: 0.2642 - val_accuracy: 0.9213\n",
            "Epoch 43/100\n",
            "16/16 [==============================] - 16s 995ms/step - loss: 0.0825 - accuracy: 0.9738 - val_loss: 0.2485 - val_accuracy: 0.9271\n",
            "Epoch 44/100\n",
            "16/16 [==============================] - 16s 988ms/step - loss: 0.0731 - accuracy: 0.9849 - val_loss: 0.2526 - val_accuracy: 0.9242\n",
            "Epoch 45/100\n",
            "16/16 [==============================] - 17s 1s/step - loss: 0.0722 - accuracy: 0.9819 - val_loss: 0.2455 - val_accuracy: 0.9271\n",
            "Epoch 46/100\n",
            "16/16 [==============================] - 16s 989ms/step - loss: 0.0590 - accuracy: 0.9849 - val_loss: 0.2497 - val_accuracy: 0.9271\n",
            "Epoch 47/100\n",
            "16/16 [==============================] - 17s 1s/step - loss: 0.0516 - accuracy: 0.9879 - val_loss: 0.2352 - val_accuracy: 0.9329\n",
            "Epoch 48/100\n",
            "16/16 [==============================] - 16s 982ms/step - loss: 0.0508 - accuracy: 0.9909 - val_loss: 0.2487 - val_accuracy: 0.9300\n",
            "Epoch 49/100\n",
            "16/16 [==============================] - 16s 999ms/step - loss: 0.0650 - accuracy: 0.9789 - val_loss: 0.2591 - val_accuracy: 0.9359\n",
            "Epoch 50/100\n",
            "16/16 [==============================] - 16s 988ms/step - loss: 0.0656 - accuracy: 0.9799 - val_loss: 0.2549 - val_accuracy: 0.9329\n",
            "Epoch 51/100\n",
            "16/16 [==============================] - 16s 962ms/step - loss: 0.0502 - accuracy: 0.9889 - val_loss: 0.2588 - val_accuracy: 0.9300\n",
            "Epoch 52/100\n",
            "16/16 [==============================] - 16s 986ms/step - loss: 0.0491 - accuracy: 0.9889 - val_loss: 0.2486 - val_accuracy: 0.9300\n",
            "Epoch 53/100\n",
            "16/16 [==============================] - 16s 987ms/step - loss: 0.0682 - accuracy: 0.9809 - val_loss: 0.2361 - val_accuracy: 0.9329\n",
            "Epoch 54/100\n",
            "16/16 [==============================] - 16s 984ms/step - loss: 0.0530 - accuracy: 0.9869 - val_loss: 0.2383 - val_accuracy: 0.9300\n",
            "Epoch 55/100\n",
            "16/16 [==============================] - 17s 1s/step - loss: 0.0415 - accuracy: 0.9920 - val_loss: 0.2424 - val_accuracy: 0.9271\n",
            "Epoch 56/100\n",
            "16/16 [==============================] - 16s 977ms/step - loss: 0.0439 - accuracy: 0.9909 - val_loss: 0.2422 - val_accuracy: 0.9300\n",
            "Epoch 57/100\n",
            "16/16 [==============================] - 17s 1s/step - loss: 0.0401 - accuracy: 0.9950 - val_loss: 0.2530 - val_accuracy: 0.9271\n",
            "Epoch 58/100\n",
            "16/16 [==============================] - 16s 976ms/step - loss: 0.0442 - accuracy: 0.9920 - val_loss: 0.2437 - val_accuracy: 0.9300\n",
            "Epoch 59/100\n",
            "16/16 [==============================] - 16s 980ms/step - loss: 0.0447 - accuracy: 0.9909 - val_loss: 0.2547 - val_accuracy: 0.9359\n",
            "Epoch 60/100\n",
            "16/16 [==============================] - 17s 1s/step - loss: 0.0524 - accuracy: 0.9889 - val_loss: 0.2521 - val_accuracy: 0.9359\n",
            "Epoch 61/100\n",
            "16/16 [==============================] - 17s 1s/step - loss: 0.0372 - accuracy: 0.9930 - val_loss: 0.2681 - val_accuracy: 0.9388\n",
            "Epoch 62/100\n",
            "16/16 [==============================] - 16s 985ms/step - loss: 0.0413 - accuracy: 0.9920 - val_loss: 0.2370 - val_accuracy: 0.9359\n",
            "Epoch 63/100\n",
            "16/16 [==============================] - 16s 980ms/step - loss: 0.0398 - accuracy: 0.9899 - val_loss: 0.2410 - val_accuracy: 0.9329\n",
            "Epoch 64/100\n",
            "16/16 [==============================] - 17s 1s/step - loss: 0.0496 - accuracy: 0.9839 - val_loss: 0.2597 - val_accuracy: 0.9359\n",
            "Epoch 65/100\n",
            "16/16 [==============================] - 16s 982ms/step - loss: 0.0417 - accuracy: 0.9889 - val_loss: 0.2737 - val_accuracy: 0.9329\n",
            "Epoch 66/100\n",
            "16/16 [==============================] - 16s 1s/step - loss: 0.0384 - accuracy: 0.9889 - val_loss: 0.2564 - val_accuracy: 0.9271\n",
            "Epoch 67/100\n",
            "16/16 [==============================] - 16s 999ms/step - loss: 0.0438 - accuracy: 0.9909 - val_loss: 0.2550 - val_accuracy: 0.9271\n",
            "Epoch 68/100\n",
            "16/16 [==============================] - 16s 984ms/step - loss: 0.0512 - accuracy: 0.9819 - val_loss: 0.2665 - val_accuracy: 0.9300\n",
            "Epoch 69/100\n",
            "16/16 [==============================] - 16s 974ms/step - loss: 0.0344 - accuracy: 0.9940 - val_loss: 0.2468 - val_accuracy: 0.9359\n",
            "Epoch 70/100\n",
            "16/16 [==============================] - 15s 988ms/step - loss: 0.0355 - accuracy: 0.9920 - val_loss: 0.2537 - val_accuracy: 0.9300\n",
            "Epoch 71/100\n",
            "16/16 [==============================] - 16s 980ms/step - loss: 0.0324 - accuracy: 0.9940 - val_loss: 0.2499 - val_accuracy: 0.9359\n",
            "Epoch 72/100\n",
            "16/16 [==============================] - 16s 975ms/step - loss: 0.0370 - accuracy: 0.9909 - val_loss: 0.2448 - val_accuracy: 0.9417\n",
            "Epoch 73/100\n",
            "16/16 [==============================] - 16s 976ms/step - loss: 0.0413 - accuracy: 0.9899 - val_loss: 0.2377 - val_accuracy: 0.9417\n",
            "Epoch 74/100\n",
            "16/16 [==============================] - 16s 981ms/step - loss: 0.0263 - accuracy: 0.9960 - val_loss: 0.2456 - val_accuracy: 0.9359\n",
            "Epoch 75/100\n",
            "16/16 [==============================] - 15s 951ms/step - loss: 0.0402 - accuracy: 0.9899 - val_loss: 0.2634 - val_accuracy: 0.9329\n",
            "Epoch 76/100\n",
            "16/16 [==============================] - 15s 947ms/step - loss: 0.0351 - accuracy: 0.9930 - val_loss: 0.2466 - val_accuracy: 0.9417\n",
            "Epoch 77/100\n",
            "16/16 [==============================] - 15s 988ms/step - loss: 0.0375 - accuracy: 0.9899 - val_loss: 0.2372 - val_accuracy: 0.9417\n",
            "Epoch 78/100\n",
            "16/16 [==============================] - 15s 955ms/step - loss: 0.0311 - accuracy: 0.9950 - val_loss: 0.2440 - val_accuracy: 0.9359\n",
            "Epoch 79/100\n",
            "16/16 [==============================] - 15s 949ms/step - loss: 0.0316 - accuracy: 0.9950 - val_loss: 0.2539 - val_accuracy: 0.9388\n",
            "Epoch 80/100\n",
            "16/16 [==============================] - 15s 954ms/step - loss: 0.0217 - accuracy: 0.9960 - val_loss: 0.2418 - val_accuracy: 0.9388\n",
            "Epoch 81/100\n",
            "16/16 [==============================] - 16s 969ms/step - loss: 0.0316 - accuracy: 0.9920 - val_loss: 0.2273 - val_accuracy: 0.9417\n",
            "Epoch 82/100\n",
            "16/16 [==============================] - 15s 949ms/step - loss: 0.0260 - accuracy: 0.9940 - val_loss: 0.2303 - val_accuracy: 0.9388\n",
            "Epoch 83/100\n",
            "16/16 [==============================] - 16s 1s/step - loss: 0.0259 - accuracy: 0.9920 - val_loss: 0.2519 - val_accuracy: 0.9388\n",
            "Epoch 84/100\n",
            "16/16 [==============================] - 15s 947ms/step - loss: 0.0222 - accuracy: 0.9950 - val_loss: 0.2403 - val_accuracy: 0.9417\n",
            "Epoch 85/100\n",
            "16/16 [==============================] - 15s 963ms/step - loss: 0.0301 - accuracy: 0.9909 - val_loss: 0.2471 - val_accuracy: 0.9446\n",
            "Epoch 86/100\n",
            "16/16 [==============================] - 15s 944ms/step - loss: 0.0200 - accuracy: 0.9970 - val_loss: 0.2402 - val_accuracy: 0.9446\n",
            "Epoch 87/100\n",
            "16/16 [==============================] - 15s 952ms/step - loss: 0.0278 - accuracy: 0.9930 - val_loss: 0.2528 - val_accuracy: 0.9388\n",
            "Epoch 88/100\n",
            "16/16 [==============================] - 15s 948ms/step - loss: 0.0223 - accuracy: 0.9950 - val_loss: 0.2542 - val_accuracy: 0.9446\n",
            "Epoch 89/100\n",
            "16/16 [==============================] - 16s 958ms/step - loss: 0.0250 - accuracy: 0.9940 - val_loss: 0.2416 - val_accuracy: 0.9417\n",
            "Epoch 90/100\n",
            "16/16 [==============================] - 15s 952ms/step - loss: 0.0201 - accuracy: 0.9950 - val_loss: 0.2328 - val_accuracy: 0.9475\n",
            "Epoch 91/100\n",
            "16/16 [==============================] - 16s 1s/step - loss: 0.0242 - accuracy: 0.9930 - val_loss: 0.2351 - val_accuracy: 0.9446\n",
            "Epoch 92/100\n",
            "16/16 [==============================] - 16s 1s/step - loss: 0.0211 - accuracy: 0.9940 - val_loss: 0.2444 - val_accuracy: 0.9359\n",
            "Epoch 93/100\n",
            "16/16 [==============================] - 15s 961ms/step - loss: 0.0276 - accuracy: 0.9909 - val_loss: 0.2540 - val_accuracy: 0.9388\n",
            "Epoch 94/100\n",
            "16/16 [==============================] - 15s 957ms/step - loss: 0.0205 - accuracy: 0.9960 - val_loss: 0.2539 - val_accuracy: 0.9359\n",
            "Epoch 95/100\n",
            "16/16 [==============================] - 16s 985ms/step - loss: 0.0237 - accuracy: 0.9950 - val_loss: 0.2693 - val_accuracy: 0.9242\n",
            "Epoch 96/100\n",
            "16/16 [==============================] - 16s 1s/step - loss: 0.0252 - accuracy: 0.9950 - val_loss: 0.2574 - val_accuracy: 0.9388\n",
            "Epoch 97/100\n",
            "16/16 [==============================] - 15s 960ms/step - loss: 0.0201 - accuracy: 0.9950 - val_loss: 0.2460 - val_accuracy: 0.9388\n",
            "Epoch 98/100\n",
            "16/16 [==============================] - 17s 1s/step - loss: 0.0204 - accuracy: 0.9960 - val_loss: 0.2291 - val_accuracy: 0.9388\n",
            "Epoch 99/100\n",
            "16/16 [==============================] - 16s 980ms/step - loss: 0.0207 - accuracy: 0.9980 - val_loss: 0.2419 - val_accuracy: 0.9417\n",
            "Epoch 100/100\n",
            "16/16 [==============================] - 15s 962ms/step - loss: 0.0186 - accuracy: 0.9970 - val_loss: 0.2519 - val_accuracy: 0.9329\n"
          ]
        }
      ],
      "source": [
        "history = model.fit(train_generator,\n",
        "                    validation_data=val_generator,\n",
        "                    epochs=100)"
      ]
    },
    {
      "cell_type": "code",
      "execution_count": null,
      "metadata": {
        "colab": {
          "base_uri": "https://localhost:8080/"
        },
        "outputId": "3ef237c1-c9f0-4e92-f859-645e991c6371",
        "id": "sd5ByVBcKUh1"
      },
      "outputs": [
        {
          "output_type": "stream",
          "name": "stdout",
          "text": [
            "3/3 [==============================] - 82s 41s/step - loss: 0.2212 - accuracy: 0.9511\n"
          ]
        },
        {
          "output_type": "execute_result",
          "data": {
            "text/plain": [
              "[0.22119176387786865, 0.9510869383811951]"
            ]
          },
          "metadata": {},
          "execution_count": 11
        }
      ],
      "source": [
        "model.evaluate(test_generator)"
      ]
    },
    {
      "cell_type": "code",
      "source": [
        "Y_pred = model.predict(test_generator)"
      ],
      "metadata": {
        "colab": {
          "base_uri": "https://localhost:8080/"
        },
        "outputId": "2477e53c-f641-4013-8903-97246482e09f",
        "id": "ZwKTMMeOE5A6"
      },
      "execution_count": null,
      "outputs": [
        {
          "output_type": "stream",
          "name": "stdout",
          "text": [
            "3/3 [==============================] - 3s 373ms/step\n"
          ]
        }
      ]
    },
    {
      "cell_type": "code",
      "source": [
        "y_pred = np.argmax(Y_pred, axis=1)"
      ],
      "metadata": {
        "id": "4e-Un5tFE5A7"
      },
      "execution_count": null,
      "outputs": []
    },
    {
      "cell_type": "code",
      "source": [
        "y_true = test_generator.classes"
      ],
      "metadata": {
        "id": "sTkV5Oc9E5A7"
      },
      "execution_count": null,
      "outputs": []
    },
    {
      "cell_type": "code",
      "source": [
        "from sklearn.metrics import ConfusionMatrixDisplay\n",
        "from sklearn.metrics import confusion_matrix\n",
        "from sklearn.metrics import classification_report"
      ],
      "metadata": {
        "id": "sTDurVvOE5A7"
      },
      "execution_count": null,
      "outputs": []
    },
    {
      "cell_type": "code",
      "source": [
        "cm = confusion_matrix(y_true, y_pred)"
      ],
      "metadata": {
        "id": "LsODdu6HE5A7"
      },
      "execution_count": null,
      "outputs": []
    },
    {
      "cell_type": "code",
      "source": [
        "import pandas as pd\n",
        "cm_df = pd.DataFrame(cm,\n",
        "                     index = ['CP','ME','MP','NL'],\n",
        "                     columns = ['CP','ME','MP','NL'])"
      ],
      "metadata": {
        "id": "50wSgffZE5BD"
      },
      "execution_count": null,
      "outputs": []
    },
    {
      "cell_type": "code",
      "execution_count": null,
      "metadata": {
        "colab": {
          "base_uri": "https://localhost:8080/",
          "height": 350
        },
        "outputId": "dc0d5525-5e8d-4e21-f70b-1523853e71c2",
        "id": "9ZwXCTm6KUh2"
      },
      "outputs": [
        {
          "output_type": "stream",
          "name": "stderr",
          "text": [
            "<ipython-input-18-8da20b82053d>:5: MatplotlibDeprecationWarning: Auto-removal of overlapping axes is deprecated since 3.6 and will be removed two minor releases later; explicitly call ax.remove() as needed.\n",
            "  plt.subplot(1,3,1)\n"
          ]
        },
        {
          "output_type": "display_data",
          "data": {
            "text/plain": [
              "<Figure size 1150x250 with 4 Axes>"
            ],
            "image/png": "[encoded data removed]"
          },
          "metadata": {}
        }
      ],
      "source": [
        "import keras\n",
        "from matplotlib import pyplot as plt\n",
        "\n",
        "plt.subplots(figsize=(11.5,2.5))\n",
        "plt.subplot(1,3,1)\n",
        "plt.plot(history.history['accuracy'])\n",
        "plt.plot(history.history['val_accuracy'])\n",
        "plt.title('InceptionV3 Model Accuracy')\n",
        "plt.ylabel('Accuracy')\n",
        "plt.xlabel('Number of Epochs')\n",
        "plt.legend(['Train_Acc', 'Val_Acc'], loc='lower right')\n",
        "\n",
        "plt.subplot(1,3,2)\n",
        "plt.plot(history.history['loss'])\n",
        "plt.plot(history.history['val_loss'])\n",
        "plt.title('InceptionV3 Model Loss')\n",
        "plt.ylabel('Loss')\n",
        "plt.xlabel('Number of Epochs')\n",
        "plt.legend(['Train_Loss', 'Val_Loss'], loc='upper right')\n",
        "\n",
        "plt.subplot(1,3,3)\n",
        "#plt.figure(figsize=(3.5,2.5))\n",
        "colormap = sns.color_palette(\"Greens\")\n",
        "sns.heatmap(cm_df,cmap=colormap, annot=True)\n",
        "plt.title('InceptionV3 Confusion Matrix')\n",
        "plt.ylabel('True Labels')\n",
        "plt.xlabel('Predicted Labels')\n",
        "plt.show()"
      ]
    },
    {
      "cell_type": "code",
      "source": [
        "print(classification_report(y_true, y_pred))"
      ],
      "metadata": {
        "colab": {
          "base_uri": "https://localhost:8080/"
        },
        "outputId": "5691f488-4ff5-4ac5-f326-1407a77b5123",
        "id": "1cnayJzrE5BE"
      },
      "execution_count": null,
      "outputs": [
        {
          "output_type": "stream",
          "name": "stdout",
          "text": [
            "              precision    recall  f1-score   support\n",
            "\n",
            "           0       0.93      1.00      0.96        37\n",
            "           1       0.93      1.00      0.96        27\n",
            "           2       0.94      0.97      0.95        63\n",
            "           3       1.00      0.88      0.93        57\n",
            "\n",
            "    accuracy                           0.95       184\n",
            "   macro avg       0.95      0.96      0.95       184\n",
            "weighted avg       0.95      0.95      0.95       184\n",
            "\n"
          ]
        }
      ]
    }
  ]
}