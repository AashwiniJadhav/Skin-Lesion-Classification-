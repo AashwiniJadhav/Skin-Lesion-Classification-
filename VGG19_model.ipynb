{
  "nbformat": 4,
  "nbformat_minor": 0,
  "metadata": {
    "colab": {
      "provenance": []
    },
    "kernelspec": {
      "name": "python3",
      "display_name": "Python 3"
    },
    "language_info": {
      "name": "python"
    }
  },
  "cells": [
    {
      "cell_type": "markdown",
      "source": [
        "**VGG19**"
      ],
      "metadata": {
        "id": "46uCQ4-QFdqb"
      }
    },
    {
      "cell_type": "code",
      "execution_count": null,
      "metadata": {
        "id": "a_46I4z1FqcP"
      },
      "outputs": [],
      "source": [
        "import tensorflow as tf\n",
        "from tensorflow import keras\n",
        "from keras.applications import resnet\n",
        "from keras.layers import Flatten , Dense , Activation\n",
        "from keras import optimizers , Sequential\n",
        "from keras.optimizers import Adam\n",
        "from keras import models , layers\n",
        "from keras.layers import Input\n",
        "from keras.models import Model\n",
        "from sklearn.metrics import accuracy_score, confusion_matrix\n",
        "import seaborn as sns\n",
        "import numpy as np\n",
        "import itertools\n",
        "import matplotlib.pyplot as plt"
      ]
    },
    {
      "cell_type": "code",
      "execution_count": null,
      "metadata": {
        "colab": {
          "base_uri": "https://localhost:8080/"
        },
        "outputId": "8ecaa3d2-d5cd-4a6f-d08d-e2ea48e1dfc6",
        "id": "Xo8j38COFqcP"
      },
      "outputs": [
        {
          "name": "stdout",
          "output_type": "stream",
          "text": [
            "Mounted at /content/gdrive\n"
          ]
        }
      ],
      "source": [
        "from google.colab import drive\n",
        "drive.mount(\"/content/gdrive\")"
      ]
    },
    {
      "cell_type": "code",
      "execution_count": null,
      "metadata": {
        "id": "EXHl6aOlFqcQ"
      },
      "outputs": [],
      "source": [
        "train_path='/content/gdrive/MyDrive/Dataset/train'\n",
        "val_path='/content/gdrive/MyDrive/Dataset/val'\n",
        "test_data='/content/gdrive/MyDrive/Dataset/test'"
      ]
    },
    {
      "cell_type": "code",
      "execution_count": null,
      "metadata": {
        "id": "43DIJghbFqcQ"
      },
      "outputs": [],
      "source": [
        "from keras.preprocessing.image import ImageDataGenerator\n",
        "train_datagen = ImageDataGenerator(rescale=1./255,zoom_range=0.15,width_shift_range=0.2,height_shift_range=0.2,shear_range=0.15)\n",
        "val_datagen = ImageDataGenerator(rescale=1./255)\n",
        "testdata_datagen=ImageDataGenerator(rescale=1./255)"
      ]
    },
    {
      "cell_type": "code",
      "execution_count": null,
      "metadata": {
        "colab": {
          "base_uri": "https://localhost:8080/"
        },
        "outputId": "cb644c71-e023-4d65-d0e7-3e74ccd08b5f",
        "id": "h3oIHffRFqcR"
      },
      "outputs": [
        {
          "name": "stdout",
          "output_type": "stream",
          "text": [
            "Found 994 images belonging to 4 classes.\n",
            "Found 343 images belonging to 4 classes.\n",
            "Found 184 images belonging to 4 classes.\n"
          ]
        }
      ],
      "source": [
        "train_generator = train_datagen.flow_from_directory(train_path,target_size=(224, 224),batch_size=64,shuffle=True,class_mode='sparse')\n",
        "val_generator = val_datagen.flow_from_directory(val_path,target_size=(224,224),batch_size=64,shuffle=True,class_mode='sparse')\n",
        "test_generator = testdata_datagen.flow_from_directory(test_data,target_size=(224,224),batch_size=64,shuffle=False,class_mode='sparse')"
      ]
    },
    {
      "cell_type": "code",
      "execution_count": null,
      "metadata": {
        "colab": {
          "base_uri": "https://localhost:8080/"
        },
        "outputId": "3b927f21-2f7b-498a-8292-bb753fb13d23",
        "id": "jP2A7FxOFqcR"
      },
      "outputs": [
        {
          "name": "stdout",
          "output_type": "stream",
          "text": [
            "Downloading data from https://storage.googleapis.com/tensorflow/keras-applications/vgg19/vgg19_weights_tf_dim_ordering_tf_kernels_notop.h5\n",
            "80134624/80134624 [==============================] - 5s 0us/step\n"
          ]
        }
      ],
      "source": [
        "vgg19 = tf.keras.applications.VGG19(\n",
        "    include_top=False,\n",
        "    weights=\"imagenet\",\n",
        "    input_tensor=None,\n",
        "    input_shape=(224,224,3),\n",
        "    pooling='avg',\n",
        "    classes=1000,\n",
        "    classifier_activation=\"softmax\",\n",
        ")\n",
        "\n",
        "for layers in vgg19.layers:\n",
        "          layers.trainable=False\n",
        "\n"
      ]
    },
    {
      "cell_type": "code",
      "execution_count": null,
      "metadata": {
        "id": "TSKbazPzFqcR"
      },
      "outputs": [],
      "source": [
        "from keras.layers import Input,BatchNormalization , Dropout"
      ]
    },
    {
      "cell_type": "code",
      "execution_count": null,
      "metadata": {
        "colab": {
          "base_uri": "https://localhost:8080/"
        },
        "outputId": "a49423f6-9002-46e1-894b-f1fff5d30869",
        "id": "5xaa95DGFqcS"
      },
      "outputs": [
        {
          "name": "stdout",
          "output_type": "stream",
          "text": [
            "Model: \"sequential\"\n",
            "_________________________________________________________________\n",
            " Layer (type)                Output Shape              Param #   \n",
            "=================================================================\n",
            " vgg19 (Functional)          (None, 512)               20024384  \n",
            "                                                                 \n",
            " batch_normalization (BatchN  (None, 512)              2048      \n",
            " ormalization)                                                   \n",
            "                                                                 \n",
            " flatten (Flatten)           (None, 512)               0         \n",
            "                                                                 \n",
            " dense (Dense)               (None, 256)               131328    \n",
            "                                                                 \n",
            " dense_1 (Dense)             (None, 128)               32896     \n",
            "                                                                 \n",
            " dense_2 (Dense)             (None, 128)               16512     \n",
            "                                                                 \n",
            " dense_3 (Dense)             (None, 4)                 516       \n",
            "                                                                 \n",
            "=================================================================\n",
            "Total params: 20,207,684\n",
            "Trainable params: 182,276\n",
            "Non-trainable params: 20,025,408\n",
            "_________________________________________________________________\n"
          ]
        }
      ],
      "source": [
        "model = Sequential()\n",
        "model.add(vgg19)\n",
        "model.add(BatchNormalization())\n",
        "model.add(Flatten())\n",
        "model.add(Dense(256,activation='relu'))\n",
        "model.add(Dense(128,activation='relu'))\n",
        "model.add(Dense(128,activation='relu'))\n",
        "model.add(Dense(4,activation='softmax'))\n",
        "model.summary()"
      ]
    },
    {
      "cell_type": "code",
      "execution_count": null,
      "metadata": {
        "colab": {
          "base_uri": "https://localhost:8080/"
        },
        "outputId": "8a4b5ed2-d3f7-4219-b35b-fe21608f9050",
        "id": "jYMcs4hqFqcS"
      },
      "outputs": [
        {
          "name": "stderr",
          "output_type": "stream",
          "text": [
            "/usr/local/lib/python3.10/dist-packages/keras/optimizers/legacy/adam.py:117: UserWarning: The `lr` argument is deprecated, use `learning_rate` instead.\n",
            "  super().__init__(name, **kwargs)\n"
          ]
        }
      ],
      "source": [
        "model.compile(optimizer=Adam(lr=0.0001),\n",
        "              loss='sparse_categorical_crossentropy',\n",
        "              metrics=['accuracy'])"
      ]
    },
    {
      "cell_type": "code",
      "execution_count": null,
      "metadata": {
        "colab": {
          "background_save": true,
          "base_uri": "https://localhost:8080/"
        },
        "outputId": "ef4cecf6-f9b5-4a51-ca29-cddb32d11b79",
        "id": "EjIwPWT4FqcS"
      },
      "outputs": [
        {
          "name": "stdout",
          "output_type": "stream",
          "text": [
            "Epoch 1/100\n",
            "16/16 [==============================] - 774s 50s/step - loss: 1.2448 - accuracy: 0.4779 - val_loss: 1.3607 - val_accuracy: 0.4052\n",
            "Epoch 2/100\n",
            "16/16 [==============================] - 20s 1s/step - loss: 1.0961 - accuracy: 0.5694 - val_loss: 1.3288 - val_accuracy: 0.4898\n",
            "Epoch 3/100\n",
            "16/16 [==============================] - 19s 1s/step - loss: 0.9948 - accuracy: 0.5936 - val_loss: 1.3043 - val_accuracy: 0.5219\n",
            "Epoch 4/100\n",
            "16/16 [==============================] - 19s 1s/step - loss: 0.9257 - accuracy: 0.6137 - val_loss: 1.2873 - val_accuracy: 0.5335\n",
            "Epoch 5/100\n",
            "16/16 [==============================] - 21s 1s/step - loss: 0.8774 - accuracy: 0.6459 - val_loss: 1.2703 - val_accuracy: 0.5190\n",
            "Epoch 6/100\n",
            "16/16 [==============================] - 20s 1s/step - loss: 0.8090 - accuracy: 0.6720 - val_loss: 1.2457 - val_accuracy: 0.5423\n",
            "Epoch 7/100\n",
            "16/16 [==============================] - 20s 1s/step - loss: 0.7770 - accuracy: 0.6911 - val_loss: 1.2231 - val_accuracy: 0.5656\n",
            "Epoch 8/100\n",
            "16/16 [==============================] - 19s 1s/step - loss: 0.7226 - accuracy: 0.7274 - val_loss: 1.1963 - val_accuracy: 0.6006\n",
            "Epoch 9/100\n",
            "16/16 [==============================] - 20s 1s/step - loss: 0.7040 - accuracy: 0.7294 - val_loss: 1.1632 - val_accuracy: 0.6093\n",
            "Epoch 10/100\n",
            "16/16 [==============================] - 19s 1s/step - loss: 0.6534 - accuracy: 0.7525 - val_loss: 1.1289 - val_accuracy: 0.6385\n",
            "Epoch 11/100\n",
            "16/16 [==============================] - 19s 1s/step - loss: 0.6199 - accuracy: 0.7767 - val_loss: 1.0914 - val_accuracy: 0.6531\n",
            "Epoch 12/100\n",
            "16/16 [==============================] - 24s 2s/step - loss: 0.5874 - accuracy: 0.7907 - val_loss: 1.0548 - val_accuracy: 0.6735\n",
            "Epoch 13/100\n",
            "16/16 [==============================] - 19s 1s/step - loss: 0.5672 - accuracy: 0.7968 - val_loss: 1.0199 - val_accuracy: 0.7026\n",
            "Epoch 14/100\n",
            "16/16 [==============================] - 19s 1s/step - loss: 0.5413 - accuracy: 0.8028 - val_loss: 0.9635 - val_accuracy: 0.7114\n",
            "Epoch 15/100\n",
            "16/16 [==============================] - 19s 1s/step - loss: 0.5112 - accuracy: 0.8249 - val_loss: 0.9406 - val_accuracy: 0.7289\n",
            "Epoch 16/100\n",
            "16/16 [==============================] - 19s 1s/step - loss: 0.5011 - accuracy: 0.8199 - val_loss: 0.8850 - val_accuracy: 0.7522\n",
            "Epoch 17/100\n",
            "16/16 [==============================] - 20s 1s/step - loss: 0.4676 - accuracy: 0.8400 - val_loss: 0.8534 - val_accuracy: 0.7580\n",
            "Epoch 18/100\n",
            "16/16 [==============================] - 19s 1s/step - loss: 0.4401 - accuracy: 0.8511 - val_loss: 0.8042 - val_accuracy: 0.7609\n",
            "Epoch 19/100\n",
            "16/16 [==============================] - 20s 1s/step - loss: 0.4227 - accuracy: 0.8521 - val_loss: 0.7564 - val_accuracy: 0.7784\n",
            "Epoch 20/100\n",
            "16/16 [==============================] - 20s 1s/step - loss: 0.4051 - accuracy: 0.8672 - val_loss: 0.7366 - val_accuracy: 0.7843\n",
            "Epoch 21/100\n",
            "16/16 [==============================] - 19s 1s/step - loss: 0.3802 - accuracy: 0.8853 - val_loss: 0.6898 - val_accuracy: 0.7930\n",
            "Epoch 22/100\n",
            "16/16 [==============================] - 19s 1s/step - loss: 0.3639 - accuracy: 0.8853 - val_loss: 0.6513 - val_accuracy: 0.7959\n",
            "Epoch 23/100\n",
            "16/16 [==============================] - 19s 1s/step - loss: 0.3370 - accuracy: 0.8913 - val_loss: 0.6320 - val_accuracy: 0.8076\n",
            "Epoch 24/100\n",
            "16/16 [==============================] - 20s 1s/step - loss: 0.3411 - accuracy: 0.8873 - val_loss: 0.5846 - val_accuracy: 0.8222\n",
            "Epoch 25/100\n",
            "16/16 [==============================] - 19s 1s/step - loss: 0.3155 - accuracy: 0.9014 - val_loss: 0.5655 - val_accuracy: 0.8163\n",
            "Epoch 26/100\n",
            "16/16 [==============================] - 19s 1s/step - loss: 0.3194 - accuracy: 0.8964 - val_loss: 0.5297 - val_accuracy: 0.8367\n",
            "Epoch 27/100\n",
            "16/16 [==============================] - 21s 1s/step - loss: 0.3046 - accuracy: 0.9074 - val_loss: 0.5103 - val_accuracy: 0.8367\n",
            "Epoch 28/100\n",
            "16/16 [==============================] - 19s 1s/step - loss: 0.2901 - accuracy: 0.9105 - val_loss: 0.4869 - val_accuracy: 0.8455\n",
            "Epoch 29/100\n",
            "16/16 [==============================] - 20s 1s/step - loss: 0.2782 - accuracy: 0.9145 - val_loss: 0.4613 - val_accuracy: 0.8542\n",
            "Epoch 30/100\n",
            "16/16 [==============================] - 19s 1s/step - loss: 0.2612 - accuracy: 0.9155 - val_loss: 0.4344 - val_accuracy: 0.8601\n",
            "Epoch 31/100\n",
            "16/16 [==============================] - 19s 1s/step - loss: 0.2714 - accuracy: 0.9095 - val_loss: 0.4288 - val_accuracy: 0.8542\n",
            "Epoch 32/100\n",
            "16/16 [==============================] - 20s 1s/step - loss: 0.2575 - accuracy: 0.9155 - val_loss: 0.4112 - val_accuracy: 0.8571\n",
            "Epoch 33/100\n",
            "16/16 [==============================] - 19s 1s/step - loss: 0.2536 - accuracy: 0.9185 - val_loss: 0.3946 - val_accuracy: 0.8571\n",
            "Epoch 34/100\n",
            "16/16 [==============================] - 19s 1s/step - loss: 0.2227 - accuracy: 0.9396 - val_loss: 0.3851 - val_accuracy: 0.8484\n",
            "Epoch 35/100\n",
            "16/16 [==============================] - 20s 1s/step - loss: 0.2190 - accuracy: 0.9316 - val_loss: 0.3721 - val_accuracy: 0.8601\n",
            "Epoch 36/100\n",
            "16/16 [==============================] - 19s 1s/step - loss: 0.2126 - accuracy: 0.9306 - val_loss: 0.3541 - val_accuracy: 0.8630\n",
            "Epoch 37/100\n",
            "16/16 [==============================] - 20s 1s/step - loss: 0.1992 - accuracy: 0.9447 - val_loss: 0.3433 - val_accuracy: 0.8834\n",
            "Epoch 38/100\n",
            "16/16 [==============================] - 19s 1s/step - loss: 0.2093 - accuracy: 0.9396 - val_loss: 0.3366 - val_accuracy: 0.8892\n",
            "Epoch 39/100\n",
            "16/16 [==============================] - 19s 1s/step - loss: 0.1845 - accuracy: 0.9467 - val_loss: 0.3330 - val_accuracy: 0.8776\n",
            "Epoch 40/100\n",
            "16/16 [==============================] - 19s 1s/step - loss: 0.1935 - accuracy: 0.9517 - val_loss: 0.3137 - val_accuracy: 0.8950\n",
            "Epoch 41/100\n",
            "16/16 [==============================] - 19s 1s/step - loss: 0.1839 - accuracy: 0.9437 - val_loss: 0.3158 - val_accuracy: 0.8746\n",
            "Epoch 42/100\n",
            "16/16 [==============================] - 21s 1s/step - loss: 0.1774 - accuracy: 0.9537 - val_loss: 0.2990 - val_accuracy: 0.9038\n",
            "Epoch 43/100\n",
            "16/16 [==============================] - 19s 1s/step - loss: 0.1742 - accuracy: 0.9447 - val_loss: 0.2920 - val_accuracy: 0.9009\n",
            "Epoch 44/100\n",
            "16/16 [==============================] - 20s 1s/step - loss: 0.1541 - accuracy: 0.9567 - val_loss: 0.3023 - val_accuracy: 0.8892\n",
            "Epoch 45/100\n",
            "16/16 [==============================] - 19s 1s/step - loss: 0.1649 - accuracy: 0.9567 - val_loss: 0.2802 - val_accuracy: 0.9038\n",
            "Epoch 46/100\n",
            "16/16 [==============================] - 19s 1s/step - loss: 0.1572 - accuracy: 0.9537 - val_loss: 0.2880 - val_accuracy: 0.8980\n",
            "Epoch 47/100\n",
            "16/16 [==============================] - 19s 1s/step - loss: 0.1538 - accuracy: 0.9608 - val_loss: 0.2787 - val_accuracy: 0.9009\n",
            "Epoch 48/100\n",
            "16/16 [==============================] - 19s 1s/step - loss: 0.1342 - accuracy: 0.9718 - val_loss: 0.2776 - val_accuracy: 0.9038\n",
            "Epoch 49/100\n",
            "16/16 [==============================] - 20s 1s/step - loss: 0.1337 - accuracy: 0.9718 - val_loss: 0.2576 - val_accuracy: 0.9125\n",
            "Epoch 50/100\n",
            "16/16 [==============================] - 20s 1s/step - loss: 0.1415 - accuracy: 0.9598 - val_loss: 0.2775 - val_accuracy: 0.9038\n",
            "Epoch 51/100\n",
            "16/16 [==============================] - 19s 1s/step - loss: 0.1426 - accuracy: 0.9567 - val_loss: 0.2503 - val_accuracy: 0.9184\n",
            "Epoch 52/100\n",
            "16/16 [==============================] - 19s 1s/step - loss: 0.1277 - accuracy: 0.9698 - val_loss: 0.2684 - val_accuracy: 0.9184\n",
            "Epoch 53/100\n",
            "16/16 [==============================] - 20s 1s/step - loss: 0.1225 - accuracy: 0.9668 - val_loss: 0.2538 - val_accuracy: 0.9184\n",
            "Epoch 54/100\n",
            "16/16 [==============================] - 19s 1s/step - loss: 0.1215 - accuracy: 0.9738 - val_loss: 0.2537 - val_accuracy: 0.9242\n",
            "Epoch 55/100\n",
            "16/16 [==============================] - 19s 1s/step - loss: 0.1144 - accuracy: 0.9688 - val_loss: 0.2438 - val_accuracy: 0.9213\n",
            "Epoch 56/100\n",
            "16/16 [==============================] - 21s 1s/step - loss: 0.1131 - accuracy: 0.9708 - val_loss: 0.2485 - val_accuracy: 0.9125\n",
            "Epoch 57/100\n",
            "16/16 [==============================] - 19s 1s/step - loss: 0.1112 - accuracy: 0.9748 - val_loss: 0.2553 - val_accuracy: 0.9213\n",
            "Epoch 58/100\n",
            "16/16 [==============================] - 20s 1s/step - loss: 0.1093 - accuracy: 0.9678 - val_loss: 0.2349 - val_accuracy: 0.9271\n",
            "Epoch 59/100\n",
            "16/16 [==============================] - 19s 1s/step - loss: 0.1070 - accuracy: 0.9718 - val_loss: 0.2572 - val_accuracy: 0.9184\n",
            "Epoch 60/100\n",
            "16/16 [==============================] - 20s 1s/step - loss: 0.1085 - accuracy: 0.9698 - val_loss: 0.2360 - val_accuracy: 0.9184\n",
            "Epoch 61/100\n",
            "16/16 [==============================] - 19s 1s/step - loss: 0.1124 - accuracy: 0.9648 - val_loss: 0.2683 - val_accuracy: 0.9096\n",
            "Epoch 62/100\n",
            "16/16 [==============================] - 19s 1s/step - loss: 0.1043 - accuracy: 0.9648 - val_loss: 0.2412 - val_accuracy: 0.9271\n",
            "Epoch 63/100\n",
            "16/16 [==============================] - 20s 1s/step - loss: 0.1020 - accuracy: 0.9738 - val_loss: 0.2405 - val_accuracy: 0.9184\n",
            "Epoch 64/100\n",
            "16/16 [==============================] - 19s 1s/step - loss: 0.1084 - accuracy: 0.9678 - val_loss: 0.2534 - val_accuracy: 0.9213\n",
            "Epoch 65/100\n",
            "16/16 [==============================] - 20s 1s/step - loss: 0.0936 - accuracy: 0.9718 - val_loss: 0.2544 - val_accuracy: 0.9184\n",
            "Epoch 66/100\n",
            "16/16 [==============================] - 19s 1s/step - loss: 0.1023 - accuracy: 0.9708 - val_loss: 0.2452 - val_accuracy: 0.9184\n",
            "Epoch 67/100\n",
            "16/16 [==============================] - 19s 1s/step - loss: 0.0906 - accuracy: 0.9769 - val_loss: 0.2567 - val_accuracy: 0.9155\n",
            "Epoch 68/100\n",
            "16/16 [==============================] - 19s 1s/step - loss: 0.0999 - accuracy: 0.9728 - val_loss: 0.2286 - val_accuracy: 0.9271\n",
            "Epoch 69/100\n",
            "16/16 [==============================] - 19s 1s/step - loss: 0.0902 - accuracy: 0.9799 - val_loss: 0.2319 - val_accuracy: 0.9213\n",
            "Epoch 70/100\n",
            "16/16 [==============================] - 20s 1s/step - loss: 0.0920 - accuracy: 0.9698 - val_loss: 0.2285 - val_accuracy: 0.9242\n",
            "Epoch 71/100\n",
            "16/16 [==============================] - 20s 1s/step - loss: 0.0922 - accuracy: 0.9779 - val_loss: 0.2277 - val_accuracy: 0.9184\n",
            "Epoch 72/100\n",
            "16/16 [==============================] - 20s 1s/step - loss: 0.0814 - accuracy: 0.9799 - val_loss: 0.2399 - val_accuracy: 0.9242\n",
            "Epoch 73/100\n",
            "16/16 [==============================] - 19s 1s/step - loss: 0.0800 - accuracy: 0.9839 - val_loss: 0.2289 - val_accuracy: 0.9271\n",
            "Epoch 74/100\n",
            "16/16 [==============================] - 20s 1s/step - loss: 0.0822 - accuracy: 0.9829 - val_loss: 0.2266 - val_accuracy: 0.9271\n",
            "Epoch 75/100\n",
            "16/16 [==============================] - 21s 1s/step - loss: 0.0754 - accuracy: 0.9759 - val_loss: 0.2505 - val_accuracy: 0.9242\n",
            "Epoch 76/100\n",
            "16/16 [==============================] - 19s 1s/step - loss: 0.0791 - accuracy: 0.9738 - val_loss: 0.2891 - val_accuracy: 0.9242\n",
            "Epoch 77/100\n",
            "16/16 [==============================] - 20s 1s/step - loss: 0.0865 - accuracy: 0.9718 - val_loss: 0.2195 - val_accuracy: 0.9329\n",
            "Epoch 78/100\n",
            "16/16 [==============================] - 19s 1s/step - loss: 0.0733 - accuracy: 0.9829 - val_loss: 0.2522 - val_accuracy: 0.9271\n",
            "Epoch 79/100\n",
            "16/16 [==============================] - 20s 1s/step - loss: 0.0728 - accuracy: 0.9809 - val_loss: 0.2161 - val_accuracy: 0.9300\n",
            "Epoch 80/100\n",
            "16/16 [==============================] - 20s 1s/step - loss: 0.0702 - accuracy: 0.9779 - val_loss: 0.2289 - val_accuracy: 0.9271\n",
            "Epoch 81/100\n",
            "16/16 [==============================] - 19s 1s/step - loss: 0.0725 - accuracy: 0.9819 - val_loss: 0.2340 - val_accuracy: 0.9300\n",
            "Epoch 82/100\n",
            "16/16 [==============================] - 19s 1s/step - loss: 0.0748 - accuracy: 0.9759 - val_loss: 0.2397 - val_accuracy: 0.9213\n",
            "Epoch 83/100\n",
            "16/16 [==============================] - 19s 1s/step - loss: 0.0799 - accuracy: 0.9759 - val_loss: 0.2517 - val_accuracy: 0.9329\n",
            "Epoch 84/100\n",
            "16/16 [==============================] - 19s 1s/step - loss: 0.0654 - accuracy: 0.9839 - val_loss: 0.2266 - val_accuracy: 0.9300\n",
            "Epoch 85/100\n",
            "16/16 [==============================] - 19s 1s/step - loss: 0.0722 - accuracy: 0.9819 - val_loss: 0.2541 - val_accuracy: 0.9213\n",
            "Epoch 86/100\n",
            "16/16 [==============================] - 19s 1s/step - loss: 0.0569 - accuracy: 0.9859 - val_loss: 0.2261 - val_accuracy: 0.9300\n",
            "Epoch 87/100\n",
            "16/16 [==============================] - 21s 1s/step - loss: 0.0551 - accuracy: 0.9879 - val_loss: 0.2391 - val_accuracy: 0.9213\n",
            "Epoch 88/100\n",
            "16/16 [==============================] - 19s 1s/step - loss: 0.0706 - accuracy: 0.9738 - val_loss: 0.2523 - val_accuracy: 0.9359\n",
            "Epoch 89/100\n",
            "16/16 [==============================] - 19s 1s/step - loss: 0.0656 - accuracy: 0.9789 - val_loss: 0.2118 - val_accuracy: 0.9388\n",
            "Epoch 90/100\n",
            "16/16 [==============================] - 19s 1s/step - loss: 0.0615 - accuracy: 0.9879 - val_loss: 0.2183 - val_accuracy: 0.9271\n",
            "Epoch 91/100\n",
            "16/16 [==============================] - 19s 1s/step - loss: 0.0706 - accuracy: 0.9809 - val_loss: 0.2332 - val_accuracy: 0.9359\n",
            "Epoch 92/100\n",
            "16/16 [==============================] - 20s 1s/step - loss: 0.0649 - accuracy: 0.9799 - val_loss: 0.2281 - val_accuracy: 0.9300\n",
            "Epoch 93/100\n",
            "16/16 [==============================] - 19s 1s/step - loss: 0.0451 - accuracy: 0.9889 - val_loss: 0.2289 - val_accuracy: 0.9359\n",
            "Epoch 94/100\n",
            "16/16 [==============================] - 21s 1s/step - loss: 0.0545 - accuracy: 0.9839 - val_loss: 0.2333 - val_accuracy: 0.9329\n",
            "Epoch 95/100\n",
            "16/16 [==============================] - 19s 1s/step - loss: 0.0567 - accuracy: 0.9869 - val_loss: 0.2263 - val_accuracy: 0.9329\n",
            "Epoch 96/100\n",
            "16/16 [==============================] - 19s 1s/step - loss: 0.0544 - accuracy: 0.9889 - val_loss: 0.2061 - val_accuracy: 0.9388\n",
            "Epoch 97/100\n",
            "16/16 [==============================] - 20s 1s/step - loss: 0.0658 - accuracy: 0.9759 - val_loss: 0.2167 - val_accuracy: 0.9417\n",
            "Epoch 98/100\n",
            "16/16 [==============================] - 19s 1s/step - loss: 0.0534 - accuracy: 0.9839 - val_loss: 0.2040 - val_accuracy: 0.9446\n",
            "Epoch 99/100\n",
            "16/16 [==============================] - 20s 1s/step - loss: 0.0716 - accuracy: 0.9799 - val_loss: 0.2014 - val_accuracy: 0.9475\n",
            "Epoch 100/100\n",
            "16/16 [==============================] - 19s 1s/step - loss: 0.0464 - accuracy: 0.9920 - val_loss: 0.2177 - val_accuracy: 0.9417\n"
          ]
        }
      ],
      "source": [
        "history = model.fit(train_generator,\n",
        "                    validation_data=val_generator,\n",
        "                    epochs=100)"
      ]
    },
    {
      "cell_type": "code",
      "execution_count": null,
      "metadata": {
        "id": "8x3enG0AFqcT"
      },
      "outputs": [],
      "source": [
        "model.evaluate(test_generator)"
      ]
    },
    {
      "cell_type": "code",
      "execution_count": null,
      "metadata": {
        "id": "eZ2PLX5dFqcT"
      },
      "outputs": [],
      "source": [
        "Y_pred = model.predict(test_generator)"
      ]
    },
    {
      "cell_type": "code",
      "execution_count": null,
      "metadata": {
        "id": "G5OyopB-FqcT"
      },
      "outputs": [],
      "source": [
        "y_pred = np.argmax(Y_pred, axis=1)"
      ]
    },
    {
      "cell_type": "code",
      "execution_count": null,
      "metadata": {
        "id": "gFe6FuFZFqcT"
      },
      "outputs": [],
      "source": [
        "y_true = test_generator.classes"
      ]
    },
    {
      "cell_type": "code",
      "execution_count": null,
      "metadata": {
        "id": "54SCPyfaFqcT"
      },
      "outputs": [],
      "source": [
        "from sklearn.metrics import ConfusionMatrixDisplay\n",
        "from sklearn.metrics import confusion_matrix\n",
        "from sklearn.metrics import classification_report"
      ]
    },
    {
      "cell_type": "code",
      "execution_count": null,
      "metadata": {
        "id": "dnOATLw6FqcU"
      },
      "outputs": [],
      "source": [
        "cm = confusion_matrix(y_true, y_pred)"
      ]
    },
    {
      "cell_type": "code",
      "execution_count": null,
      "metadata": {
        "id": "C0gU5J0zFqcU"
      },
      "outputs": [],
      "source": [
        "import pandas as pd\n",
        "cm_df = pd.DataFrame(cm,\n",
        "                     index = ['CP','ME','MP','NL'],\n",
        "                     columns = ['CP','ME','MP','NL'])"
      ]
    },
    {
      "cell_type": "code",
      "execution_count": null,
      "metadata": {
        "id": "L8ZfZeBkFqcU"
      },
      "outputs": [],
      "source": [
        "import keras\n",
        "from matplotlib import pyplot as plt\n",
        "\n",
        "plt.subplots(figsize=(13,2.5))\n",
        "plt.subplot(1,3,1)\n",
        "plt.plot(history.history['accuracy'])\n",
        "plt.plot(history.history['val_accuracy'])\n",
        "plt.title('VGG19 Model Accuracy')\n",
        "plt.ylabel('Accuracy')\n",
        "plt.xlabel('Number of Epochs')\n",
        "plt.legend(['Train_Acc', 'Val_Acc'], loc='lower right')\n",
        "\n",
        "plt.subplot(1,3,2)\n",
        "plt.plot(history.history['loss'])\n",
        "plt.plot(history.history['val_loss'])\n",
        "plt.title('VGG19 Model Loss')\n",
        "plt.ylabel('Loss')\n",
        "plt.xlabel('Number of Epochs')\n",
        "plt.legend(['Train_Loss', 'Val_Loss'], loc='upper right')\n",
        "\n",
        "plt.subplot(1,3,3)\n",
        "#plt.figure(figsize=(3.5,2.5))\n",
        "colormap = sns.color_palette(\"Greens\")\n",
        "sns.heatmap(cm_df,cmap=colormap, annot=True)\n",
        "plt.title('VGG19 Confusion Matrix')\n",
        "plt.ylabel('True Labels')\n",
        "plt.xlabel('Predicted Labels')\n",
        "plt.show()"
      ]
    },
    {
      "cell_type": "code",
      "execution_count": null,
      "metadata": {
        "id": "mgEMFTTdFqcU"
      },
      "outputs": [],
      "source": [
        "print(classification_report(y_true, y_pred))"
      ]
    }
  ]
}