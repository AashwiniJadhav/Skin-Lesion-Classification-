{
  "nbformat": 4,
  "nbformat_minor": 0,
  "metadata": {
    "colab": {
      "provenance": []
    },
    "kernelspec": {
      "name": "python3",
      "display_name": "Python 3"
    },
    "language_info": {
      "name": "python"
    }
  },
  "cells": [
    {
      "cell_type": "markdown",
      "source": [
        "**VGG16**"
      ],
      "metadata": {
        "id": "nHoktKNLFAG2"
      }
    },
    {
      "cell_type": "code",
      "execution_count": null,
      "metadata": {
        "id": "ebfvumdxFVgu"
      },
      "outputs": [],
      "source": [
        "import tensorflow as tf\n",
        "from tensorflow import keras\n",
        "from keras.applications import resnet\n",
        "from keras.layers import Flatten , Dense , Activation\n",
        "from keras import optimizers , Sequential\n",
        "from keras.optimizers import Adam\n",
        "from keras import models , layers\n",
        "from keras.layers import Input\n",
        "from keras.models import Model\n",
        "from sklearn.metrics import accuracy_score, confusion_matrix\n",
        "import seaborn as sns\n",
        "import numpy as np\n",
        "import itertools\n",
        "import matplotlib.pyplot as plt"
      ]
    },
    {
      "cell_type": "code",
      "execution_count": null,
      "metadata": {
        "colab": {
          "base_uri": "https://localhost:8080/"
        },
        "outputId": "1384d0a1-37b9-4aab-fc13-b0702b54b4ed",
        "id": "6Uizis1uFVg0"
      },
      "outputs": [
        {
          "output_type": "stream",
          "name": "stdout",
          "text": [
            "Drive already mounted at /content/gdrive; to attempt to forcibly remount, call drive.mount(\"/content/gdrive\", force_remount=True).\n"
          ]
        }
      ],
      "source": [
        "from google.colab import drive\n",
        "drive.mount(\"/content/gdrive\")"
      ]
    },
    {
      "cell_type": "code",
      "execution_count": null,
      "metadata": {
        "id": "GGALZnL3FVg1"
      },
      "outputs": [],
      "source": [
        "train_path='/content/gdrive/MyDrive/Dataset/train'\n",
        "val_path='/content/gdrive/MyDrive/Dataset/val'\n",
        "test_data='/content/gdrive/MyDrive/Dataset/test'"
      ]
    },
    {
      "cell_type": "code",
      "source": [
        "from keras.preprocessing.image import ImageDataGenerator\n",
        "train_datagen = ImageDataGenerator(rescale=1./255,zoom_range=0.15,width_shift_range=0.2,height_shift_range=0.2,shear_range=0.15)\n",
        "val_datagen = ImageDataGenerator(rescale=1./255)\n",
        "testdata_datagen=ImageDataGenerator(rescale=1./255)"
      ],
      "metadata": {
        "id": "EBi6bE3dFVg1"
      },
      "execution_count": null,
      "outputs": []
    },
    {
      "cell_type": "code",
      "source": [
        "train_generator = train_datagen.flow_from_directory(train_path,target_size=(224, 224),batch_size=64,shuffle=True,class_mode='sparse')\n",
        "val_generator = val_datagen.flow_from_directory(val_path,target_size=(224,224),batch_size=64,shuffle=True,class_mode='sparse')\n",
        "test_generator = testdata_datagen.flow_from_directory(test_data,target_size=(224,224),batch_size=64,shuffle=False,class_mode='sparse')"
      ],
      "metadata": {
        "colab": {
          "base_uri": "https://localhost:8080/"
        },
        "outputId": "825ec2c4-b36b-4024-c2a0-0cad64153d68",
        "id": "7l4vnMG_FVg1"
      },
      "execution_count": null,
      "outputs": [
        {
          "output_type": "stream",
          "name": "stdout",
          "text": [
            "Found 994 images belonging to 4 classes.\n",
            "Found 343 images belonging to 4 classes.\n",
            "Found 184 images belonging to 4 classes.\n"
          ]
        }
      ]
    },
    {
      "cell_type": "code",
      "source": [
        "vgg16 = tf.keras.applications.VGG16(\n",
        "    include_top=False,\n",
        "    weights=\"imagenet\",\n",
        "    input_tensor=None,\n",
        "    input_shape=(224,224,3),\n",
        "    pooling='avg',\n",
        "    classes=1000,\n",
        "    classifier_activation=\"softmax\",\n",
        ")\n",
        "\n",
        "for layers in vgg16.layers:\n",
        "          layers.trainable=False\n",
        "\n"
      ],
      "metadata": {
        "id": "r7QQn_N5CFqp"
      },
      "execution_count": null,
      "outputs": []
    },
    {
      "cell_type": "code",
      "source": [
        "from keras.layers import Input,BatchNormalization , Dropout"
      ],
      "metadata": {
        "id": "OWv6WLtEDWw4"
      },
      "execution_count": null,
      "outputs": []
    },
    {
      "cell_type": "code",
      "source": [
        "model = Sequential()\n",
        "model.add(vgg16)\n",
        "model.add(BatchNormalization())\n",
        "model.add(Flatten())\n",
        "model.add(Dense(256,activation='relu'))\n",
        "model.add(Dense(128,activation='relu'))\n",
        "model.add(Dense(128,activation='relu'))\n",
        "model.add(Dense(4,activation='softmax'))\n",
        "model.summary()"
      ],
      "metadata": {
        "colab": {
          "base_uri": "https://localhost:8080/"
        },
        "id": "UGa8mNjRC0NK",
        "outputId": "190d5133-8d19-4d06-ee5c-c26bbe8183ed"
      },
      "execution_count": null,
      "outputs": [
        {
          "output_type": "stream",
          "name": "stdout",
          "text": [
            "Model: \"sequential_1\"\n",
            "_________________________________________________________________\n",
            " Layer (type)                Output Shape              Param #   \n",
            "=================================================================\n",
            " vgg16 (Functional)          (None, 512)               14714688  \n",
            "                                                                 \n",
            " batch_normalization_1 (Batc  (None, 512)              2048      \n",
            " hNormalization)                                                 \n",
            "                                                                 \n",
            " flatten_1 (Flatten)         (None, 512)               0         \n",
            "                                                                 \n",
            " dense_4 (Dense)             (None, 256)               131328    \n",
            "                                                                 \n",
            " dense_5 (Dense)             (None, 128)               32896     \n",
            "                                                                 \n",
            " dense_6 (Dense)             (None, 128)               16512     \n",
            "                                                                 \n",
            " dense_7 (Dense)             (None, 4)                 516       \n",
            "                                                                 \n",
            "=================================================================\n",
            "Total params: 14,897,988\n",
            "Trainable params: 182,276\n",
            "Non-trainable params: 14,715,712\n",
            "_________________________________________________________________\n"
          ]
        }
      ]
    },
    {
      "cell_type": "code",
      "source": [
        "model.compile(optimizer=Adam(lr=0.0001),\n",
        "              loss='sparse_categorical_crossentropy',\n",
        "              metrics=['accuracy'])"
      ],
      "metadata": {
        "id": "QxIt8lOmDcTR",
        "colab": {
          "base_uri": "https://localhost:8080/"
        },
        "outputId": "95b8aed4-b455-4a81-b691-2ab81a6e134d"
      },
      "execution_count": null,
      "outputs": [
        {
          "output_type": "stream",
          "name": "stderr",
          "text": [
            "/usr/local/lib/python3.10/dist-packages/keras/optimizers/legacy/adam.py:117: UserWarning: The `lr` argument is deprecated, use `learning_rate` instead.\n",
            "  super().__init__(name, **kwargs)\n"
          ]
        }
      ]
    },
    {
      "cell_type": "code",
      "source": [
        "history = model.fit(train_generator,\n",
        "                    validation_data=val_generator,\n",
        "                    epochs=100)"
      ],
      "metadata": {
        "colab": {
          "base_uri": "https://localhost:8080/"
        },
        "id": "bLKY_SQTDcQK",
        "outputId": "2e3880a0-d9da-45d8-979d-06bc194ab381"
      },
      "execution_count": null,
      "outputs": [
        {
          "output_type": "stream",
          "name": "stdout",
          "text": [
            "Epoch 1/100\n",
            "16/16 [==============================] - 20s 1s/step - loss: 1.4114 - accuracy: 0.2767 - val_loss: 1.3550 - val_accuracy: 0.3469\n",
            "Epoch 2/100\n",
            "16/16 [==============================] - 18s 1s/step - loss: 1.1724 - accuracy: 0.5111 - val_loss: 1.3069 - val_accuracy: 0.3557\n",
            "Epoch 3/100\n",
            "16/16 [==============================] - 18s 1s/step - loss: 1.0484 - accuracy: 0.5624 - val_loss: 1.2798 - val_accuracy: 0.3878\n",
            "Epoch 4/100\n",
            "16/16 [==============================] - 18s 1s/step - loss: 0.9598 - accuracy: 0.6066 - val_loss: 1.2582 - val_accuracy: 0.4023\n",
            "Epoch 5/100\n",
            "16/16 [==============================] - 20s 1s/step - loss: 0.8810 - accuracy: 0.6590 - val_loss: 1.2291 - val_accuracy: 0.4431\n",
            "Epoch 6/100\n",
            "16/16 [==============================] - 18s 1s/step - loss: 0.8171 - accuracy: 0.6962 - val_loss: 1.2021 - val_accuracy: 0.4898\n",
            "Epoch 7/100\n",
            "16/16 [==============================] - 18s 1s/step - loss: 0.7525 - accuracy: 0.7143 - val_loss: 1.1736 - val_accuracy: 0.5394\n",
            "Epoch 8/100\n",
            "16/16 [==============================] - 18s 1s/step - loss: 0.7026 - accuracy: 0.7505 - val_loss: 1.1408 - val_accuracy: 0.5656\n",
            "Epoch 9/100\n",
            "16/16 [==============================] - 18s 1s/step - loss: 0.6442 - accuracy: 0.7817 - val_loss: 1.1054 - val_accuracy: 0.6181\n",
            "Epoch 10/100\n",
            "16/16 [==============================] - 19s 1s/step - loss: 0.5962 - accuracy: 0.7857 - val_loss: 1.0681 - val_accuracy: 0.6356\n",
            "Epoch 11/100\n",
            "16/16 [==============================] - 18s 1s/step - loss: 0.5715 - accuracy: 0.8028 - val_loss: 1.0246 - val_accuracy: 0.6968\n",
            "Epoch 12/100\n",
            "16/16 [==============================] - 17s 1s/step - loss: 0.5332 - accuracy: 0.8209 - val_loss: 0.9838 - val_accuracy: 0.7055\n",
            "Epoch 13/100\n",
            "16/16 [==============================] - 18s 1s/step - loss: 0.4899 - accuracy: 0.8340 - val_loss: 0.9299 - val_accuracy: 0.7289\n",
            "Epoch 14/100\n",
            "16/16 [==============================] - 17s 1s/step - loss: 0.4656 - accuracy: 0.8421 - val_loss: 0.8845 - val_accuracy: 0.7434\n",
            "Epoch 15/100\n",
            "16/16 [==============================] - 18s 1s/step - loss: 0.4547 - accuracy: 0.8390 - val_loss: 0.8439 - val_accuracy: 0.7493\n",
            "Epoch 16/100\n",
            "16/16 [==============================] - 20s 1s/step - loss: 0.4184 - accuracy: 0.8622 - val_loss: 0.8053 - val_accuracy: 0.7551\n",
            "Epoch 17/100\n",
            "16/16 [==============================] - 18s 1s/step - loss: 0.3997 - accuracy: 0.8592 - val_loss: 0.7587 - val_accuracy: 0.7551\n",
            "Epoch 18/100\n",
            "16/16 [==============================] - 19s 1s/step - loss: 0.3929 - accuracy: 0.8732 - val_loss: 0.7144 - val_accuracy: 0.7697\n",
            "Epoch 19/100\n",
            "16/16 [==============================] - 17s 1s/step - loss: 0.3595 - accuracy: 0.8843 - val_loss: 0.6735 - val_accuracy: 0.7813\n",
            "Epoch 20/100\n",
            "16/16 [==============================] - 17s 1s/step - loss: 0.3510 - accuracy: 0.8934 - val_loss: 0.6289 - val_accuracy: 0.7988\n",
            "Epoch 21/100\n",
            "16/16 [==============================] - 18s 1s/step - loss: 0.3388 - accuracy: 0.8883 - val_loss: 0.5982 - val_accuracy: 0.8076\n",
            "Epoch 22/100\n",
            "16/16 [==============================] - 17s 1s/step - loss: 0.3208 - accuracy: 0.9064 - val_loss: 0.5609 - val_accuracy: 0.8134\n",
            "Epoch 23/100\n",
            "16/16 [==============================] - 18s 1s/step - loss: 0.2983 - accuracy: 0.8974 - val_loss: 0.5388 - val_accuracy: 0.8076\n",
            "Epoch 24/100\n",
            "16/16 [==============================] - 18s 1s/step - loss: 0.2861 - accuracy: 0.9145 - val_loss: 0.5192 - val_accuracy: 0.8134\n",
            "Epoch 25/100\n",
            "16/16 [==============================] - 18s 1s/step - loss: 0.2706 - accuracy: 0.9145 - val_loss: 0.4739 - val_accuracy: 0.8367\n",
            "Epoch 26/100\n",
            "16/16 [==============================] - 17s 1s/step - loss: 0.2735 - accuracy: 0.9064 - val_loss: 0.4589 - val_accuracy: 0.8484\n",
            "Epoch 27/100\n",
            "16/16 [==============================] - 18s 1s/step - loss: 0.2593 - accuracy: 0.9125 - val_loss: 0.4294 - val_accuracy: 0.8571\n",
            "Epoch 28/100\n",
            "16/16 [==============================] - 19s 1s/step - loss: 0.2328 - accuracy: 0.9256 - val_loss: 0.4122 - val_accuracy: 0.8659\n",
            "Epoch 29/100\n",
            "16/16 [==============================] - 17s 1s/step - loss: 0.2297 - accuracy: 0.9326 - val_loss: 0.3978 - val_accuracy: 0.8659\n",
            "Epoch 30/100\n",
            "16/16 [==============================] - 18s 1s/step - loss: 0.2149 - accuracy: 0.9366 - val_loss: 0.3778 - val_accuracy: 0.8717\n",
            "Epoch 31/100\n",
            "16/16 [==============================] - 18s 1s/step - loss: 0.2233 - accuracy: 0.9346 - val_loss: 0.3594 - val_accuracy: 0.8746\n",
            "Epoch 32/100\n",
            "16/16 [==============================] - 18s 1s/step - loss: 0.2019 - accuracy: 0.9376 - val_loss: 0.3432 - val_accuracy: 0.8892\n",
            "Epoch 33/100\n",
            "16/16 [==============================] - 18s 1s/step - loss: 0.1864 - accuracy: 0.9507 - val_loss: 0.3333 - val_accuracy: 0.8776\n",
            "Epoch 34/100\n",
            "16/16 [==============================] - 17s 1s/step - loss: 0.1823 - accuracy: 0.9527 - val_loss: 0.3236 - val_accuracy: 0.8921\n",
            "Epoch 35/100\n",
            "16/16 [==============================] - 18s 1s/step - loss: 0.2042 - accuracy: 0.9366 - val_loss: 0.3095 - val_accuracy: 0.9009\n",
            "Epoch 36/100\n",
            "16/16 [==============================] - 17s 1s/step - loss: 0.2016 - accuracy: 0.9346 - val_loss: 0.3066 - val_accuracy: 0.9038\n",
            "Epoch 37/100\n",
            "16/16 [==============================] - 17s 1s/step - loss: 0.1845 - accuracy: 0.9517 - val_loss: 0.2999 - val_accuracy: 0.9067\n",
            "Epoch 38/100\n",
            "16/16 [==============================] - 17s 1s/step - loss: 0.1744 - accuracy: 0.9457 - val_loss: 0.3039 - val_accuracy: 0.9009\n",
            "Epoch 39/100\n",
            "16/16 [==============================] - 20s 1s/step - loss: 0.1656 - accuracy: 0.9517 - val_loss: 0.2900 - val_accuracy: 0.9038\n",
            "Epoch 40/100\n",
            "16/16 [==============================] - 18s 1s/step - loss: 0.1647 - accuracy: 0.9507 - val_loss: 0.2829 - val_accuracy: 0.9213\n",
            "Epoch 41/100\n",
            "16/16 [==============================] - 17s 1s/step - loss: 0.1588 - accuracy: 0.9537 - val_loss: 0.2787 - val_accuracy: 0.9067\n",
            "Epoch 42/100\n",
            "16/16 [==============================] - 17s 1s/step - loss: 0.1483 - accuracy: 0.9567 - val_loss: 0.2721 - val_accuracy: 0.9155\n",
            "Epoch 43/100\n",
            "16/16 [==============================] - 17s 1s/step - loss: 0.1413 - accuracy: 0.9557 - val_loss: 0.2785 - val_accuracy: 0.9096\n",
            "Epoch 44/100\n",
            "16/16 [==============================] - 17s 1s/step - loss: 0.1407 - accuracy: 0.9608 - val_loss: 0.2754 - val_accuracy: 0.9067\n",
            "Epoch 45/100\n",
            "16/16 [==============================] - 18s 1s/step - loss: 0.1314 - accuracy: 0.9588 - val_loss: 0.2580 - val_accuracy: 0.9155\n",
            "Epoch 46/100\n",
            "16/16 [==============================] - 17s 1s/step - loss: 0.1514 - accuracy: 0.9547 - val_loss: 0.2614 - val_accuracy: 0.9096\n",
            "Epoch 47/100\n",
            "16/16 [==============================] - 18s 1s/step - loss: 0.1259 - accuracy: 0.9668 - val_loss: 0.2531 - val_accuracy: 0.9184\n",
            "Epoch 48/100\n",
            "16/16 [==============================] - 17s 1s/step - loss: 0.1234 - accuracy: 0.9688 - val_loss: 0.2647 - val_accuracy: 0.9125\n",
            "Epoch 49/100\n",
            "16/16 [==============================] - 18s 1s/step - loss: 0.1305 - accuracy: 0.9537 - val_loss: 0.2466 - val_accuracy: 0.9242\n",
            "Epoch 50/100\n",
            "16/16 [==============================] - 19s 1s/step - loss: 0.1141 - accuracy: 0.9728 - val_loss: 0.2446 - val_accuracy: 0.9184\n",
            "Epoch 51/100\n",
            "16/16 [==============================] - 17s 1s/step - loss: 0.1135 - accuracy: 0.9668 - val_loss: 0.2493 - val_accuracy: 0.9213\n",
            "Epoch 52/100\n",
            "16/16 [==============================] - 17s 1s/step - loss: 0.0991 - accuracy: 0.9738 - val_loss: 0.2405 - val_accuracy: 0.9271\n",
            "Epoch 53/100\n",
            "16/16 [==============================] - 18s 1s/step - loss: 0.1090 - accuracy: 0.9668 - val_loss: 0.2520 - val_accuracy: 0.9213\n",
            "Epoch 54/100\n",
            "16/16 [==============================] - 17s 1s/step - loss: 0.1142 - accuracy: 0.9668 - val_loss: 0.2496 - val_accuracy: 0.9271\n",
            "Epoch 55/100\n",
            "16/16 [==============================] - 17s 1s/step - loss: 0.1000 - accuracy: 0.9748 - val_loss: 0.2429 - val_accuracy: 0.9300\n",
            "Epoch 56/100\n",
            "16/16 [==============================] - 18s 1s/step - loss: 0.1162 - accuracy: 0.9658 - val_loss: 0.2247 - val_accuracy: 0.9271\n",
            "Epoch 57/100\n",
            "16/16 [==============================] - 17s 1s/step - loss: 0.1026 - accuracy: 0.9718 - val_loss: 0.2379 - val_accuracy: 0.9271\n",
            "Epoch 58/100\n",
            "16/16 [==============================] - 18s 1s/step - loss: 0.1094 - accuracy: 0.9688 - val_loss: 0.2385 - val_accuracy: 0.9329\n",
            "Epoch 59/100\n",
            "16/16 [==============================] - 17s 1s/step - loss: 0.0939 - accuracy: 0.9748 - val_loss: 0.2472 - val_accuracy: 0.9300\n",
            "Epoch 60/100\n",
            "16/16 [==============================] - 17s 1s/step - loss: 0.0958 - accuracy: 0.9728 - val_loss: 0.2315 - val_accuracy: 0.9359\n",
            "Epoch 61/100\n",
            "16/16 [==============================] - 19s 1s/step - loss: 0.0833 - accuracy: 0.9809 - val_loss: 0.2318 - val_accuracy: 0.9359\n",
            "Epoch 62/100\n",
            "16/16 [==============================] - 17s 1s/step - loss: 0.0855 - accuracy: 0.9789 - val_loss: 0.2421 - val_accuracy: 0.9300\n",
            "Epoch 63/100\n",
            "16/16 [==============================] - 18s 1s/step - loss: 0.0815 - accuracy: 0.9789 - val_loss: 0.2437 - val_accuracy: 0.9329\n",
            "Epoch 64/100\n",
            "16/16 [==============================] - 18s 1s/step - loss: 0.0826 - accuracy: 0.9809 - val_loss: 0.2467 - val_accuracy: 0.9300\n",
            "Epoch 65/100\n",
            "16/16 [==============================] - 18s 1s/step - loss: 0.0842 - accuracy: 0.9769 - val_loss: 0.2374 - val_accuracy: 0.9271\n",
            "Epoch 66/100\n",
            "16/16 [==============================] - 17s 1s/step - loss: 0.0880 - accuracy: 0.9748 - val_loss: 0.2483 - val_accuracy: 0.9271\n",
            "Epoch 67/100\n",
            "16/16 [==============================] - 17s 1s/step - loss: 0.0948 - accuracy: 0.9688 - val_loss: 0.2426 - val_accuracy: 0.9329\n",
            "Epoch 68/100\n",
            "16/16 [==============================] - 17s 1s/step - loss: 0.0713 - accuracy: 0.9879 - val_loss: 0.2298 - val_accuracy: 0.9359\n",
            "Epoch 69/100\n",
            "16/16 [==============================] - 17s 1s/step - loss: 0.0820 - accuracy: 0.9789 - val_loss: 0.2157 - val_accuracy: 0.9417\n",
            "Epoch 70/100\n",
            "16/16 [==============================] - 17s 1s/step - loss: 0.0669 - accuracy: 0.9829 - val_loss: 0.2443 - val_accuracy: 0.9359\n",
            "Epoch 71/100\n",
            "16/16 [==============================] - 19s 1s/step - loss: 0.0758 - accuracy: 0.9789 - val_loss: 0.2129 - val_accuracy: 0.9446\n",
            "Epoch 72/100\n",
            "16/16 [==============================] - 19s 1s/step - loss: 0.0740 - accuracy: 0.9829 - val_loss: 0.2218 - val_accuracy: 0.9417\n",
            "Epoch 73/100\n",
            "16/16 [==============================] - 17s 1s/step - loss: 0.0576 - accuracy: 0.9859 - val_loss: 0.2463 - val_accuracy: 0.9329\n",
            "Epoch 74/100\n",
            "16/16 [==============================] - 18s 1s/step - loss: 0.0719 - accuracy: 0.9799 - val_loss: 0.2179 - val_accuracy: 0.9475\n",
            "Epoch 75/100\n",
            "16/16 [==============================] - 17s 1s/step - loss: 0.0559 - accuracy: 0.9909 - val_loss: 0.2077 - val_accuracy: 0.9388\n",
            "Epoch 76/100\n",
            "16/16 [==============================] - 17s 1s/step - loss: 0.0642 - accuracy: 0.9809 - val_loss: 0.2100 - val_accuracy: 0.9475\n",
            "Epoch 77/100\n",
            "16/16 [==============================] - 17s 1s/step - loss: 0.0661 - accuracy: 0.9849 - val_loss: 0.2351 - val_accuracy: 0.9388\n",
            "Epoch 78/100\n",
            "16/16 [==============================] - 18s 1s/step - loss: 0.0630 - accuracy: 0.9799 - val_loss: 0.2193 - val_accuracy: 0.9417\n",
            "Epoch 79/100\n",
            "16/16 [==============================] - 18s 1s/step - loss: 0.0723 - accuracy: 0.9839 - val_loss: 0.2131 - val_accuracy: 0.9446\n",
            "Epoch 80/100\n",
            "16/16 [==============================] - 18s 1s/step - loss: 0.0623 - accuracy: 0.9839 - val_loss: 0.2262 - val_accuracy: 0.9388\n",
            "Epoch 81/100\n",
            "16/16 [==============================] - 17s 1s/step - loss: 0.0539 - accuracy: 0.9899 - val_loss: 0.2175 - val_accuracy: 0.9475\n",
            "Epoch 82/100\n",
            "16/16 [==============================] - 17s 1s/step - loss: 0.0590 - accuracy: 0.9839 - val_loss: 0.2111 - val_accuracy: 0.9417\n",
            "Epoch 83/100\n",
            "16/16 [==============================] - 19s 1s/step - loss: 0.0551 - accuracy: 0.9869 - val_loss: 0.2109 - val_accuracy: 0.9475\n",
            "Epoch 84/100\n",
            "16/16 [==============================] - 17s 1s/step - loss: 0.0504 - accuracy: 0.9869 - val_loss: 0.2168 - val_accuracy: 0.9504\n",
            "Epoch 85/100\n",
            "16/16 [==============================] - 18s 1s/step - loss: 0.0653 - accuracy: 0.9819 - val_loss: 0.2018 - val_accuracy: 0.9388\n",
            "Epoch 86/100\n",
            "16/16 [==============================] - 18s 1s/step - loss: 0.0539 - accuracy: 0.9859 - val_loss: 0.2003 - val_accuracy: 0.9475\n",
            "Epoch 87/100\n",
            "16/16 [==============================] - 17s 1s/step - loss: 0.0517 - accuracy: 0.9859 - val_loss: 0.1965 - val_accuracy: 0.9417\n",
            "Epoch 88/100\n",
            "16/16 [==============================] - 17s 1s/step - loss: 0.0503 - accuracy: 0.9849 - val_loss: 0.2321 - val_accuracy: 0.9504\n",
            "Epoch 89/100\n",
            "16/16 [==============================] - 18s 1s/step - loss: 0.0494 - accuracy: 0.9839 - val_loss: 0.2126 - val_accuracy: 0.9504\n",
            "Epoch 90/100\n",
            "16/16 [==============================] - 18s 1s/step - loss: 0.0492 - accuracy: 0.9849 - val_loss: 0.2230 - val_accuracy: 0.9504\n",
            "Epoch 91/100\n",
            "16/16 [==============================] - 18s 1s/step - loss: 0.0555 - accuracy: 0.9849 - val_loss: 0.2052 - val_accuracy: 0.9475\n",
            "Epoch 92/100\n",
            "16/16 [==============================] - 17s 1s/step - loss: 0.0467 - accuracy: 0.9879 - val_loss: 0.2367 - val_accuracy: 0.9417\n",
            "Epoch 93/100\n",
            "16/16 [==============================] - 17s 1s/step - loss: 0.0514 - accuracy: 0.9899 - val_loss: 0.2057 - val_accuracy: 0.9475\n",
            "Epoch 94/100\n",
            "16/16 [==============================] - 20s 1s/step - loss: 0.0528 - accuracy: 0.9849 - val_loss: 0.2164 - val_accuracy: 0.9446\n",
            "Epoch 95/100\n",
            "16/16 [==============================] - 17s 1s/step - loss: 0.0436 - accuracy: 0.9889 - val_loss: 0.2118 - val_accuracy: 0.9475\n",
            "Epoch 96/100\n",
            "16/16 [==============================] - 17s 1s/step - loss: 0.0451 - accuracy: 0.9889 - val_loss: 0.2457 - val_accuracy: 0.9417\n",
            "Epoch 97/100\n",
            "16/16 [==============================] - 18s 1s/step - loss: 0.0485 - accuracy: 0.9859 - val_loss: 0.2141 - val_accuracy: 0.9417\n",
            "Epoch 98/100\n",
            "16/16 [==============================] - 18s 1s/step - loss: 0.0524 - accuracy: 0.9879 - val_loss: 0.2394 - val_accuracy: 0.9504\n",
            "Epoch 99/100\n",
            "16/16 [==============================] - 17s 1s/step - loss: 0.0437 - accuracy: 0.9859 - val_loss: 0.2347 - val_accuracy: 0.9504\n",
            "Epoch 100/100\n",
            "16/16 [==============================] - 18s 1s/step - loss: 0.0422 - accuracy: 0.9930 - val_loss: 0.2380 - val_accuracy: 0.9504\n"
          ]
        }
      ]
    },
    {
      "cell_type": "code",
      "execution_count": null,
      "metadata": {
        "colab": {
          "base_uri": "https://localhost:8080/"
        },
        "outputId": "c303d940-b3ea-42c8-be5f-e94470c7d273",
        "id": "Dmq5t_VWFVg2"
      },
      "outputs": [
        {
          "output_type": "stream",
          "name": "stdout",
          "text": [
            "3/3 [==============================] - 1s 278ms/step - loss: 0.3689 - accuracy: 0.9185\n"
          ]
        },
        {
          "output_type": "execute_result",
          "data": {
            "text/plain": [
              "[0.368877112865448, 0.91847825050354]"
            ]
          },
          "metadata": {},
          "execution_count": 31
        }
      ],
      "source": [
        "model.evaluate(test_generator)"
      ]
    },
    {
      "cell_type": "code",
      "source": [
        "Y_pred = model.predict(test_generator)"
      ],
      "metadata": {
        "colab": {
          "base_uri": "https://localhost:8080/"
        },
        "outputId": "4f706b37-bac5-46f3-d9b5-42a870840cf9",
        "id": "ke9KMkHfFVg2"
      },
      "execution_count": null,
      "outputs": [
        {
          "output_type": "stream",
          "name": "stdout",
          "text": [
            "3/3 [==============================] - 1s 297ms/step\n"
          ]
        }
      ]
    },
    {
      "cell_type": "code",
      "source": [
        "y_pred = np.argmax(Y_pred, axis=1)"
      ],
      "metadata": {
        "id": "cyiZu1HgFVg3"
      },
      "execution_count": null,
      "outputs": []
    },
    {
      "cell_type": "code",
      "source": [
        "y_true = test_generator.classes"
      ],
      "metadata": {
        "id": "p1L8Y51AFVg3"
      },
      "execution_count": null,
      "outputs": []
    },
    {
      "cell_type": "code",
      "source": [
        "from sklearn.metrics import ConfusionMatrixDisplay\n",
        "from sklearn.metrics import confusion_matrix\n",
        "from sklearn.metrics import classification_report"
      ],
      "metadata": {
        "id": "KN2u6fxxFVg3"
      },
      "execution_count": null,
      "outputs": []
    },
    {
      "cell_type": "code",
      "source": [
        "cm = confusion_matrix(y_true, y_pred)"
      ],
      "metadata": {
        "id": "gCno_oI8FVg3"
      },
      "execution_count": null,
      "outputs": []
    },
    {
      "cell_type": "code",
      "source": [
        "import pandas as pd\n",
        "cm_df = pd.DataFrame(cm,\n",
        "                     index = ['CP','ME','MP','NL'],\n",
        "                     columns = ['CP','ME','MP','NL'])"
      ],
      "metadata": {
        "id": "6fzQI750FVg3"
      },
      "execution_count": null,
      "outputs": []
    },
    {
      "cell_type": "code",
      "execution_count": null,
      "metadata": {
        "colab": {
          "base_uri": "https://localhost:8080/",
          "height": 350
        },
        "outputId": "588f0c2f-6afb-4b67-83e7-00d5dc8d77f5",
        "id": "IMZzVEwlFVg3"
      },
      "outputs": [
        {
          "output_type": "stream",
          "name": "stderr",
          "text": [
            "<ipython-input-38-5bcd5bfc94b5>:5: MatplotlibDeprecationWarning: Auto-removal of overlapping axes is deprecated since 3.6 and will be removed two minor releases later; explicitly call ax.remove() as needed.\n",
            "  plt.subplot(1,3,1)\n"
          ]
        },
        {
          "output_type": "display_data",
          "data": {
            "text/plain": [
              "<Figure size 1150x250 with 4 Axes>"
            ],
            "image/png": "[encoded data removed]"
          },
          "metadata": {}
        }
      ],
      "source": [
        "import keras\n",
        "from matplotlib import pyplot as plt\n",
        "\n",
        "plt.subplots(figsize=(11.5,2.5))\n",
        "plt.subplot(1,3,1)\n",
        "plt.plot(history.history['accuracy'])\n",
        "plt.plot(history.history['val_accuracy'])\n",
        "plt.title('VGG16 Model Accuracy')\n",
        "plt.ylabel('Accuracy')\n",
        "plt.xlabel('Number of Epochs')\n",
        "plt.legend(['Train_Acc', 'Val_Acc'], loc='lower right')\n",
        "\n",
        "plt.subplot(1,3,2)\n",
        "plt.plot(history.history['loss'])\n",
        "plt.plot(history.history['val_loss'])\n",
        "plt.title('VGG16 Model Loss')\n",
        "plt.ylabel('Loss')\n",
        "plt.xlabel('Number of Epochs')\n",
        "plt.legend(['Train_Loss', 'Val_Loss'], loc='upper right')\n",
        "\n",
        "plt.subplot(1,3,3)\n",
        "#plt.figure(figsize=(3.5,2.5))\n",
        "colormap = sns.color_palette(\"Greens\")\n",
        "sns.heatmap(cm_df,cmap=colormap, annot=True)\n",
        "plt.title('VGG16 Confusion Matrix')\n",
        "plt.ylabel('True Labels')\n",
        "plt.xlabel('Predicted Labels')\n",
        "plt.show()"
      ]
    },
    {
      "cell_type": "code",
      "source": [
        "print(classification_report(y_true, y_pred))"
      ],
      "metadata": {
        "colab": {
          "base_uri": "https://localhost:8080/"
        },
        "outputId": "af87d5f6-a8b9-4690-b542-382ce89692b3",
        "id": "yCtW2RCQFVg4"
      },
      "execution_count": null,
      "outputs": [
        {
          "output_type": "stream",
          "name": "stdout",
          "text": [
            "              precision    recall  f1-score   support\n",
            "\n",
            "           0       0.92      0.97      0.95        37\n",
            "           1       0.86      0.93      0.89        27\n",
            "           2       0.92      0.90      0.91        63\n",
            "           3       0.94      0.89      0.92        57\n",
            "\n",
            "    accuracy                           0.92       184\n",
            "   macro avg       0.91      0.92      0.92       184\n",
            "weighted avg       0.92      0.92      0.92       184\n",
            "\n"
          ]
        }
      ]
    }
  ]
}