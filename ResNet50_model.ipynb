{
  "nbformat": 4,
  "nbformat_minor": 0,
  "metadata": {
    "colab": {
      "provenance": []
    },
    "kernelspec": {
      "name": "python3",
      "display_name": "Python 3"
    },
    "language_info": {
      "name": "python"
    }
  },
  "cells": [
    {
      "cell_type": "markdown",
      "source": [
        "**ResNet50**"
      ],
      "metadata": {
        "id": "ChV8gjnlFrO9"
      }
    },
    {
      "cell_type": "code",
      "execution_count": null,
      "metadata": {
        "id": "C0h05yuhF7sI"
      },
      "outputs": [],
      "source": [
        "import tensorflow as tf\n",
        "from tensorflow import keras\n",
        "from keras.applications import resnet\n",
        "from keras.layers import Flatten , Dense , Activation\n",
        "from keras import optimizers , Sequential\n",
        "from keras.optimizers import Adam\n",
        "from keras import models , layers\n",
        "from keras.layers import Input\n",
        "from keras.models import Model\n",
        "from sklearn.metrics import accuracy_score, confusion_matrix\n",
        "import seaborn as sns\n",
        "import numpy as np\n",
        "import itertools\n",
        "import matplotlib.pyplot as plt"
      ]
    },
    {
      "cell_type": "code",
      "source": [
        "from google.colab import drive\n",
        "drive.mount(\"/content/gdrive\")"
      ],
      "metadata": {
        "colab": {
          "base_uri": "https://localhost:8080/"
        },
        "outputId": "bc482148-21b1-4570-a9b1-3b00afad947c",
        "id": "YUoIFT6tF7sI"
      },
      "execution_count": null,
      "outputs": [
        {
          "output_type": "stream",
          "name": "stdout",
          "text": [
            "Drive already mounted at /content/gdrive; to attempt to forcibly remount, call drive.mount(\"/content/gdrive\", force_remount=True).\n"
          ]
        }
      ]
    },
    {
      "cell_type": "code",
      "source": [
        "train_path='/content/gdrive/MyDrive/Dataset/train'\n",
        "val_path='/content/gdrive/MyDrive/Dataset/val'\n",
        "test_data='/content/gdrive/MyDrive/Dataset/test'"
      ],
      "metadata": {
        "id": "JdDjxwfKF7sJ"
      },
      "execution_count": null,
      "outputs": []
    },
    {
      "cell_type": "code",
      "source": [
        "train_data = tf.keras.utils.image_dataset_from_directory(\n",
        "    directory = train_path,\n",
        "    image_size =(224,224),\n",
        "    batch_size = 32,\n",
        "    label_mode = \"categorical\",\n",
        "    seed = 43\n",
        ")"
      ],
      "metadata": {
        "colab": {
          "base_uri": "https://localhost:8080/"
        },
        "id": "PFwaQ_whnOxV",
        "outputId": "ac926490-6478-41e6-c859-9f5135194de9"
      },
      "execution_count": null,
      "outputs": [
        {
          "output_type": "stream",
          "name": "stdout",
          "text": [
            "Found 994 files belonging to 4 classes.\n"
          ]
        }
      ]
    },
    {
      "cell_type": "code",
      "source": [
        "val_data = tf.keras.utils.image_dataset_from_directory(\n",
        "    directory = val_path,\n",
        "    image_size =(224,224),\n",
        "    batch_size = 32,\n",
        "    label_mode = \"categorical\",\n",
        "    seed = 43\n",
        ")"
      ],
      "metadata": {
        "colab": {
          "base_uri": "https://localhost:8080/"
        },
        "id": "OXR_zm4wnTjI",
        "outputId": "660b4b7f-cfcb-4f5b-d853-1bf7dcdebc41"
      },
      "execution_count": null,
      "outputs": [
        {
          "output_type": "stream",
          "name": "stdout",
          "text": [
            "Found 343 files belonging to 4 classes.\n"
          ]
        }
      ]
    },
    {
      "cell_type": "code",
      "source": [
        "test_data = tf.keras.utils.image_dataset_from_directory(\n",
        "    directory = test_data,\n",
        "    image_size =(224,224),\n",
        "    batch_size = 32,\n",
        "    label_mode = \"categorical\",\n",
        "    seed = 43\n",
        ")"
      ],
      "metadata": {
        "colab": {
          "base_uri": "https://localhost:8080/"
        },
        "id": "fkk1LQMTnlOE",
        "outputId": "e84ff266-9a79-4a9e-9c77-b019d92bbf7a"
      },
      "execution_count": null,
      "outputs": [
        {
          "output_type": "stream",
          "name": "stdout",
          "text": [
            "Found 184 files belonging to 4 classes.\n"
          ]
        }
      ]
    },
    {
      "cell_type": "code",
      "source": [
        "resnet= tf.keras.applications.ResNet50(\n",
        "                   include_top=False,\n",
        "                   input_shape=(224,224,3),\n",
        "                   pooling='avg',\n",
        "                   classes=4,\n",
        "                   weights='imagenet')\n",
        "\n",
        "for each_layer in resnet.layers:\n",
        "        each_layer.trainable=False"
      ],
      "metadata": {
        "colab": {
          "base_uri": "https://localhost:8080/"
        },
        "outputId": "dc8be14b-5078-4cbd-d0c7-e4dd731c396f",
        "id": "SASViJZEF7sK"
      },
      "execution_count": null,
      "outputs": [
        {
          "output_type": "stream",
          "name": "stdout",
          "text": [
            "Downloading data from https://storage.googleapis.com/tensorflow/keras-applications/resnet/resnet50_weights_tf_dim_ordering_tf_kernels_notop.h5\n",
            "94765736/94765736 [==============================] - 0s 0us/step\n"
          ]
        }
      ]
    },
    {
      "cell_type": "code",
      "source": [
        "model = Sequential()\n",
        "model.add(resnet)\n",
        "model.add(Flatten())\n",
        "model.add(Dense(512, activation='relu'))\n",
        "model.add(Dense(256, activation='relu'))\n",
        "model.add(Dense(128, activation='relu'))\n",
        "model.add(Dense(4, activation='softmax'))\n",
        "model.summary()"
      ],
      "metadata": {
        "colab": {
          "base_uri": "https://localhost:8080/"
        },
        "outputId": "9d9b2ce7-a4fb-43eb-d1ea-a19f283a4173",
        "id": "Qaz3ZT7aF7sK"
      },
      "execution_count": null,
      "outputs": [
        {
          "output_type": "stream",
          "name": "stdout",
          "text": [
            "Model: \"sequential\"\n",
            "_________________________________________________________________\n",
            " Layer (type)                Output Shape              Param #   \n",
            "=================================================================\n",
            " resnet50 (Functional)       (None, 2048)              23587712  \n",
            "                                                                 \n",
            " flatten (Flatten)           (None, 2048)              0         \n",
            "                                                                 \n",
            " dense (Dense)               (None, 512)               1049088   \n",
            "                                                                 \n",
            " dense_1 (Dense)             (None, 256)               131328    \n",
            "                                                                 \n",
            " dense_2 (Dense)             (None, 128)               32896     \n",
            "                                                                 \n",
            " dense_3 (Dense)             (None, 4)                 516       \n",
            "                                                                 \n",
            "=================================================================\n",
            "Total params: 24,801,540\n",
            "Trainable params: 1,213,828\n",
            "Non-trainable params: 23,587,712\n",
            "_________________________________________________________________\n"
          ]
        }
      ]
    },
    {
      "cell_type": "code",
      "source": [
        "model.compile(optimizer=Adam(lr=0.0001),\n",
        "              loss='categorical_crossentropy',\n",
        "              metrics=['accuracy'])"
      ],
      "metadata": {
        "id": "HMcOqRb1F7sL"
      },
      "execution_count": null,
      "outputs": []
    },
    {
      "cell_type": "code",
      "source": [
        "history = model.fit(train_data,\n",
        "                    validation_data=val_data,\n",
        "                    epochs=100)"
      ],
      "metadata": {
        "colab": {
          "base_uri": "https://localhost:8080/"
        },
        "outputId": "ad7846c2-a700-4006-9da4-4c56a9b76a48",
        "id": "eu86OisbF7sL"
      },
      "execution_count": null,
      "outputs": [
        {
          "output_type": "stream",
          "name": "stdout",
          "text": [
            "Epoch 1/100\n",
            "32/32 [==============================] - 154s 4s/step - loss: 0.8355 - accuracy: 0.6851 - val_loss: 0.5285 - val_accuracy: 0.8251\n",
            "Epoch 2/100\n",
            "32/32 [==============================] - 5s 143ms/step - loss: 0.3659 - accuracy: 0.8984 - val_loss: 0.3585 - val_accuracy: 0.8746\n",
            "Epoch 3/100\n",
            "32/32 [==============================] - 6s 167ms/step - loss: 0.2379 - accuracy: 0.9376 - val_loss: 0.2839 - val_accuracy: 0.8980\n",
            "Epoch 4/100\n",
            "32/32 [==============================] - 5s 143ms/step - loss: 0.1442 - accuracy: 0.9678 - val_loss: 0.2279 - val_accuracy: 0.9359\n",
            "Epoch 5/100\n",
            "32/32 [==============================] - 6s 178ms/step - loss: 0.0955 - accuracy: 0.9869 - val_loss: 0.2009 - val_accuracy: 0.9329\n",
            "Epoch 6/100\n",
            "32/32 [==============================] - 5s 148ms/step - loss: 0.0651 - accuracy: 0.9930 - val_loss: 0.1791 - val_accuracy: 0.9388\n",
            "Epoch 7/100\n",
            "32/32 [==============================] - 6s 177ms/step - loss: 0.0452 - accuracy: 0.9970 - val_loss: 0.1713 - val_accuracy: 0.9475\n",
            "Epoch 8/100\n",
            "32/32 [==============================] - 5s 145ms/step - loss: 0.0350 - accuracy: 0.9980 - val_loss: 0.1585 - val_accuracy: 0.9446\n",
            "Epoch 9/100\n",
            "32/32 [==============================] - 6s 180ms/step - loss: 0.0248 - accuracy: 0.9990 - val_loss: 0.1691 - val_accuracy: 0.9475\n",
            "Epoch 10/100\n",
            "32/32 [==============================] - 5s 147ms/step - loss: 0.0219 - accuracy: 0.9980 - val_loss: 0.1594 - val_accuracy: 0.9475\n",
            "Epoch 11/100\n",
            "32/32 [==============================] - 5s 147ms/step - loss: 0.0166 - accuracy: 1.0000 - val_loss: 0.1654 - val_accuracy: 0.9475\n",
            "Epoch 12/100\n",
            "32/32 [==============================] - 7s 177ms/step - loss: 0.0139 - accuracy: 1.0000 - val_loss: 0.1710 - val_accuracy: 0.9475\n",
            "Epoch 13/100\n",
            "32/32 [==============================] - 6s 161ms/step - loss: 0.0107 - accuracy: 1.0000 - val_loss: 0.1803 - val_accuracy: 0.9475\n",
            "Epoch 14/100\n",
            "32/32 [==============================] - 6s 150ms/step - loss: 0.0095 - accuracy: 1.0000 - val_loss: 0.1723 - val_accuracy: 0.9504\n",
            "Epoch 15/100\n",
            "32/32 [==============================] - 5s 148ms/step - loss: 0.0074 - accuracy: 1.0000 - val_loss: 0.1677 - val_accuracy: 0.9475\n",
            "Epoch 16/100\n",
            "32/32 [==============================] - 6s 165ms/step - loss: 0.0062 - accuracy: 1.0000 - val_loss: 0.1654 - val_accuracy: 0.9475\n",
            "Epoch 17/100\n",
            "32/32 [==============================] - 6s 180ms/step - loss: 0.0051 - accuracy: 1.0000 - val_loss: 0.1660 - val_accuracy: 0.9475\n",
            "Epoch 18/100\n",
            "32/32 [==============================] - 6s 148ms/step - loss: 0.0043 - accuracy: 1.0000 - val_loss: 0.1692 - val_accuracy: 0.9475\n",
            "Epoch 19/100\n",
            "32/32 [==============================] - 6s 163ms/step - loss: 0.0047 - accuracy: 1.0000 - val_loss: 0.1637 - val_accuracy: 0.9475\n",
            "Epoch 20/100\n",
            "32/32 [==============================] - 5s 146ms/step - loss: 0.0036 - accuracy: 1.0000 - val_loss: 0.1619 - val_accuracy: 0.9475\n",
            "Epoch 21/100\n",
            "32/32 [==============================] - 6s 180ms/step - loss: 0.0031 - accuracy: 1.0000 - val_loss: 0.1631 - val_accuracy: 0.9475\n",
            "Epoch 22/100\n",
            "32/32 [==============================] - 5s 146ms/step - loss: 0.0028 - accuracy: 1.0000 - val_loss: 0.1747 - val_accuracy: 0.9475\n",
            "Epoch 23/100\n",
            "32/32 [==============================] - 6s 170ms/step - loss: 0.0025 - accuracy: 1.0000 - val_loss: 0.1591 - val_accuracy: 0.9534\n",
            "Epoch 24/100\n",
            "32/32 [==============================] - 5s 146ms/step - loss: 0.0022 - accuracy: 1.0000 - val_loss: 0.1735 - val_accuracy: 0.9475\n",
            "Epoch 25/100\n",
            "32/32 [==============================] - 6s 161ms/step - loss: 0.0020 - accuracy: 1.0000 - val_loss: 0.1612 - val_accuracy: 0.9534\n",
            "Epoch 26/100\n",
            "32/32 [==============================] - 6s 152ms/step - loss: 0.0018 - accuracy: 1.0000 - val_loss: 0.1684 - val_accuracy: 0.9475\n",
            "Epoch 27/100\n",
            "32/32 [==============================] - 5s 149ms/step - loss: 0.0016 - accuracy: 1.0000 - val_loss: 0.1698 - val_accuracy: 0.9475\n",
            "Epoch 28/100\n",
            "32/32 [==============================] - 6s 167ms/step - loss: 0.0015 - accuracy: 1.0000 - val_loss: 0.1767 - val_accuracy: 0.9475\n",
            "Epoch 29/100\n",
            "32/32 [==============================] - 6s 159ms/step - loss: 0.0014 - accuracy: 1.0000 - val_loss: 0.1705 - val_accuracy: 0.9475\n",
            "Epoch 30/100\n",
            "32/32 [==============================] - 6s 146ms/step - loss: 0.0012 - accuracy: 1.0000 - val_loss: 0.1745 - val_accuracy: 0.9475\n",
            "Epoch 31/100\n",
            "32/32 [==============================] - 6s 179ms/step - loss: 0.0012 - accuracy: 1.0000 - val_loss: 0.1817 - val_accuracy: 0.9475\n",
            "Epoch 32/100\n",
            "32/32 [==============================] - 5s 148ms/step - loss: 0.0011 - accuracy: 1.0000 - val_loss: 0.1712 - val_accuracy: 0.9504\n",
            "Epoch 33/100\n",
            "32/32 [==============================] - 6s 180ms/step - loss: 9.8318e-04 - accuracy: 1.0000 - val_loss: 0.1784 - val_accuracy: 0.9475\n",
            "Epoch 34/100\n",
            "32/32 [==============================] - 5s 147ms/step - loss: 9.2439e-04 - accuracy: 1.0000 - val_loss: 0.1780 - val_accuracy: 0.9475\n",
            "Epoch 35/100\n",
            "32/32 [==============================] - 6s 159ms/step - loss: 8.5503e-04 - accuracy: 1.0000 - val_loss: 0.1785 - val_accuracy: 0.9504\n",
            "Epoch 36/100\n",
            "32/32 [==============================] - 5s 148ms/step - loss: 8.0281e-04 - accuracy: 1.0000 - val_loss: 0.1800 - val_accuracy: 0.9475\n",
            "Epoch 37/100\n",
            "32/32 [==============================] - 6s 165ms/step - loss: 7.5675e-04 - accuracy: 1.0000 - val_loss: 0.1818 - val_accuracy: 0.9504\n",
            "Epoch 38/100\n",
            "32/32 [==============================] - 5s 148ms/step - loss: 7.0557e-04 - accuracy: 1.0000 - val_loss: 0.1824 - val_accuracy: 0.9504\n",
            "Epoch 39/100\n",
            "32/32 [==============================] - 6s 180ms/step - loss: 6.6335e-04 - accuracy: 1.0000 - val_loss: 0.1807 - val_accuracy: 0.9534\n",
            "Epoch 40/100\n",
            "32/32 [==============================] - 5s 150ms/step - loss: 6.2550e-04 - accuracy: 1.0000 - val_loss: 0.1795 - val_accuracy: 0.9534\n",
            "Epoch 41/100\n",
            "32/32 [==============================] - 6s 165ms/step - loss: 5.8373e-04 - accuracy: 1.0000 - val_loss: 0.1842 - val_accuracy: 0.9534\n",
            "Epoch 42/100\n",
            "32/32 [==============================] - 5s 148ms/step - loss: 5.5066e-04 - accuracy: 1.0000 - val_loss: 0.1858 - val_accuracy: 0.9534\n",
            "Epoch 43/100\n",
            "32/32 [==============================] - 6s 179ms/step - loss: 5.1779e-04 - accuracy: 1.0000 - val_loss: 0.1861 - val_accuracy: 0.9504\n",
            "Epoch 44/100\n",
            "32/32 [==============================] - 5s 149ms/step - loss: 4.9392e-04 - accuracy: 1.0000 - val_loss: 0.1852 - val_accuracy: 0.9534\n",
            "Epoch 45/100\n",
            "32/32 [==============================] - 6s 172ms/step - loss: 4.6379e-04 - accuracy: 1.0000 - val_loss: 0.1885 - val_accuracy: 0.9504\n",
            "Epoch 46/100\n",
            "32/32 [==============================] - 5s 148ms/step - loss: 4.4547e-04 - accuracy: 1.0000 - val_loss: 0.1881 - val_accuracy: 0.9504\n",
            "Epoch 47/100\n",
            "32/32 [==============================] - 6s 150ms/step - loss: 4.1958e-04 - accuracy: 1.0000 - val_loss: 0.1871 - val_accuracy: 0.9504\n",
            "Epoch 48/100\n",
            "32/32 [==============================] - 5s 148ms/step - loss: 3.9540e-04 - accuracy: 1.0000 - val_loss: 0.1883 - val_accuracy: 0.9534\n",
            "Epoch 49/100\n",
            "32/32 [==============================] - 6s 169ms/step - loss: 3.7653e-04 - accuracy: 1.0000 - val_loss: 0.1902 - val_accuracy: 0.9504\n",
            "Epoch 50/100\n",
            "32/32 [==============================] - 6s 168ms/step - loss: 3.5993e-04 - accuracy: 1.0000 - val_loss: 0.1897 - val_accuracy: 0.9504\n",
            "Epoch 51/100\n",
            "32/32 [==============================] - 6s 148ms/step - loss: 3.4296e-04 - accuracy: 1.0000 - val_loss: 0.1894 - val_accuracy: 0.9504\n",
            "Epoch 52/100\n",
            "32/32 [==============================] - 5s 148ms/step - loss: 3.2792e-04 - accuracy: 1.0000 - val_loss: 0.1891 - val_accuracy: 0.9475\n",
            "Epoch 53/100\n",
            "32/32 [==============================] - 6s 164ms/step - loss: 3.3872e-04 - accuracy: 1.0000 - val_loss: 0.1917 - val_accuracy: 0.9475\n",
            "Epoch 54/100\n",
            "32/32 [==============================] - 5s 148ms/step - loss: 2.9979e-04 - accuracy: 1.0000 - val_loss: 0.1905 - val_accuracy: 0.9475\n",
            "Epoch 55/100\n",
            "32/32 [==============================] - 6s 180ms/step - loss: 2.8409e-04 - accuracy: 1.0000 - val_loss: 0.1936 - val_accuracy: 0.9475\n",
            "Epoch 56/100\n",
            "32/32 [==============================] - 6s 179ms/step - loss: 2.6790e-04 - accuracy: 1.0000 - val_loss: 0.1924 - val_accuracy: 0.9475\n",
            "Epoch 57/100\n",
            "32/32 [==============================] - 6s 160ms/step - loss: 2.5583e-04 - accuracy: 1.0000 - val_loss: 0.1948 - val_accuracy: 0.9475\n",
            "Epoch 58/100\n",
            "32/32 [==============================] - 6s 181ms/step - loss: 2.4666e-04 - accuracy: 1.0000 - val_loss: 0.1976 - val_accuracy: 0.9475\n",
            "Epoch 59/100\n",
            "32/32 [==============================] - 5s 150ms/step - loss: 2.3354e-04 - accuracy: 1.0000 - val_loss: 0.1952 - val_accuracy: 0.9504\n",
            "Epoch 60/100\n",
            "32/32 [==============================] - 6s 180ms/step - loss: 2.2350e-04 - accuracy: 1.0000 - val_loss: 0.1973 - val_accuracy: 0.9475\n",
            "Epoch 61/100\n",
            "32/32 [==============================] - 5s 148ms/step - loss: 2.1367e-04 - accuracy: 1.0000 - val_loss: 0.1979 - val_accuracy: 0.9475\n",
            "Epoch 62/100\n",
            "32/32 [==============================] - 5s 147ms/step - loss: 2.0721e-04 - accuracy: 1.0000 - val_loss: 0.1983 - val_accuracy: 0.9475\n",
            "Epoch 63/100\n",
            "32/32 [==============================] - 6s 160ms/step - loss: 1.9896e-04 - accuracy: 1.0000 - val_loss: 0.1988 - val_accuracy: 0.9475\n",
            "Epoch 64/100\n",
            "32/32 [==============================] - 6s 151ms/step - loss: 1.9057e-04 - accuracy: 1.0000 - val_loss: 0.1988 - val_accuracy: 0.9475\n",
            "Epoch 65/100\n",
            "32/32 [==============================] - 5s 149ms/step - loss: 1.8133e-04 - accuracy: 1.0000 - val_loss: 0.1998 - val_accuracy: 0.9475\n",
            "Epoch 66/100\n",
            "32/32 [==============================] - 6s 171ms/step - loss: 1.7451e-04 - accuracy: 1.0000 - val_loss: 0.1998 - val_accuracy: 0.9475\n",
            "Epoch 67/100\n",
            "32/32 [==============================] - 5s 148ms/step - loss: 1.6970e-04 - accuracy: 1.0000 - val_loss: 0.2027 - val_accuracy: 0.9475\n",
            "Epoch 68/100\n",
            "32/32 [==============================] - 6s 160ms/step - loss: 1.6424e-04 - accuracy: 1.0000 - val_loss: 0.2006 - val_accuracy: 0.9475\n",
            "Epoch 69/100\n",
            "32/32 [==============================] - 6s 152ms/step - loss: 1.5640e-04 - accuracy: 1.0000 - val_loss: 0.2016 - val_accuracy: 0.9475\n",
            "Epoch 70/100\n",
            "32/32 [==============================] - 6s 173ms/step - loss: 1.5031e-04 - accuracy: 1.0000 - val_loss: 0.2022 - val_accuracy: 0.9475\n",
            "Epoch 71/100\n",
            "32/32 [==============================] - 5s 146ms/step - loss: 1.4467e-04 - accuracy: 1.0000 - val_loss: 0.2019 - val_accuracy: 0.9504\n",
            "Epoch 72/100\n",
            "32/32 [==============================] - 6s 164ms/step - loss: 1.3950e-04 - accuracy: 1.0000 - val_loss: 0.2025 - val_accuracy: 0.9504\n",
            "Epoch 73/100\n",
            "32/32 [==============================] - 5s 149ms/step - loss: 1.3466e-04 - accuracy: 1.0000 - val_loss: 0.2033 - val_accuracy: 0.9504\n",
            "Epoch 74/100\n",
            "32/32 [==============================] - 6s 181ms/step - loss: 1.3088e-04 - accuracy: 1.0000 - val_loss: 0.2030 - val_accuracy: 0.9504\n",
            "Epoch 75/100\n",
            "32/32 [==============================] - 6s 181ms/step - loss: 1.2603e-04 - accuracy: 1.0000 - val_loss: 0.2029 - val_accuracy: 0.9504\n",
            "Epoch 76/100\n",
            "32/32 [==============================] - 5s 152ms/step - loss: 1.2215e-04 - accuracy: 1.0000 - val_loss: 0.2040 - val_accuracy: 0.9504\n",
            "Epoch 77/100\n",
            "32/32 [==============================] - 6s 165ms/step - loss: 1.1884e-04 - accuracy: 1.0000 - val_loss: 0.2055 - val_accuracy: 0.9504\n",
            "Epoch 78/100\n",
            "32/32 [==============================] - 5s 156ms/step - loss: 1.1497e-04 - accuracy: 1.0000 - val_loss: 0.2058 - val_accuracy: 0.9504\n",
            "Epoch 79/100\n",
            "32/32 [==============================] - 5s 148ms/step - loss: 1.0942e-04 - accuracy: 1.0000 - val_loss: 0.2056 - val_accuracy: 0.9504\n",
            "Epoch 80/100\n",
            "32/32 [==============================] - 6s 172ms/step - loss: 1.0611e-04 - accuracy: 1.0000 - val_loss: 0.2101 - val_accuracy: 0.9504\n",
            "Epoch 81/100\n",
            "32/32 [==============================] - 5s 149ms/step - loss: 0.0221 - accuracy: 0.9930 - val_loss: 0.4823 - val_accuracy: 0.8892\n",
            "Epoch 82/100\n",
            "32/32 [==============================] - 6s 180ms/step - loss: 0.0570 - accuracy: 0.9819 - val_loss: 0.2137 - val_accuracy: 0.9417\n",
            "Epoch 83/100\n",
            "32/32 [==============================] - 5s 148ms/step - loss: 0.0311 - accuracy: 0.9849 - val_loss: 0.2323 - val_accuracy: 0.9475\n",
            "Epoch 84/100\n",
            "32/32 [==============================] - 6s 171ms/step - loss: 0.0107 - accuracy: 0.9970 - val_loss: 0.2214 - val_accuracy: 0.9504\n",
            "Epoch 85/100\n",
            "32/32 [==============================] - 5s 146ms/step - loss: 0.0055 - accuracy: 0.9980 - val_loss: 0.1927 - val_accuracy: 0.9534\n",
            "Epoch 86/100\n",
            "32/32 [==============================] - 6s 154ms/step - loss: 0.0012 - accuracy: 1.0000 - val_loss: 0.2117 - val_accuracy: 0.9475\n",
            "Epoch 87/100\n",
            "32/32 [==============================] - 5s 147ms/step - loss: 0.0021 - accuracy: 0.9990 - val_loss: 0.2446 - val_accuracy: 0.9534\n",
            "Epoch 88/100\n",
            "32/32 [==============================] - 5s 148ms/step - loss: 7.4400e-04 - accuracy: 1.0000 - val_loss: 0.1849 - val_accuracy: 0.9475\n",
            "Epoch 89/100\n",
            "32/32 [==============================] - 6s 170ms/step - loss: 2.6322e-04 - accuracy: 1.0000 - val_loss: 0.2016 - val_accuracy: 0.9504\n",
            "Epoch 90/100\n",
            "32/32 [==============================] - 5s 156ms/step - loss: 2.0146e-04 - accuracy: 1.0000 - val_loss: 0.2086 - val_accuracy: 0.9504\n",
            "Epoch 91/100\n",
            "32/32 [==============================] - 6s 185ms/step - loss: 1.8500e-04 - accuracy: 1.0000 - val_loss: 0.2116 - val_accuracy: 0.9504\n",
            "Epoch 92/100\n",
            "32/32 [==============================] - 5s 150ms/step - loss: 1.7284e-04 - accuracy: 1.0000 - val_loss: 0.2132 - val_accuracy: 0.9504\n",
            "Epoch 93/100\n",
            "32/32 [==============================] - 6s 166ms/step - loss: 1.6201e-04 - accuracy: 1.0000 - val_loss: 0.2146 - val_accuracy: 0.9504\n",
            "Epoch 94/100\n",
            "32/32 [==============================] - 5s 148ms/step - loss: 1.5282e-04 - accuracy: 1.0000 - val_loss: 0.2156 - val_accuracy: 0.9504\n",
            "Epoch 95/100\n",
            "32/32 [==============================] - 5s 148ms/step - loss: 1.4451e-04 - accuracy: 1.0000 - val_loss: 0.2164 - val_accuracy: 0.9534\n",
            "Epoch 96/100\n",
            "32/32 [==============================] - 6s 166ms/step - loss: 1.3744e-04 - accuracy: 1.0000 - val_loss: 0.2172 - val_accuracy: 0.9504\n",
            "Epoch 97/100\n",
            "32/32 [==============================] - 5s 148ms/step - loss: 1.3069e-04 - accuracy: 1.0000 - val_loss: 0.2187 - val_accuracy: 0.9504\n",
            "Epoch 98/100\n",
            "32/32 [==============================] - 6s 162ms/step - loss: 1.2455e-04 - accuracy: 1.0000 - val_loss: 0.2195 - val_accuracy: 0.9504\n",
            "Epoch 99/100\n",
            "32/32 [==============================] - 5s 149ms/step - loss: 1.1904e-04 - accuracy: 1.0000 - val_loss: 0.2207 - val_accuracy: 0.9504\n",
            "Epoch 100/100\n",
            "32/32 [==============================] - 6s 181ms/step - loss: 1.1402e-04 - accuracy: 1.0000 - val_loss: 0.2209 - val_accuracy: 0.9504\n"
          ]
        }
      ]
    },
    {
      "cell_type": "code",
      "source": [
        "model.evaluate(test_data)"
      ],
      "metadata": {
        "colab": {
          "base_uri": "https://localhost:8080/"
        },
        "outputId": "afdc158d-23bb-4446-8c07-7812b0f9c412",
        "id": "FXIo2r7HF7sL"
      },
      "execution_count": null,
      "outputs": [
        {
          "output_type": "stream",
          "name": "stdout",
          "text": [
            "6/6 [==============================] - 21s 283ms/step - loss: 0.2387 - accuracy: 0.9565\n"
          ]
        },
        {
          "output_type": "execute_result",
          "data": {
            "text/plain": [
              "[0.23865555226802826, 0.95652174949646]"
            ]
          },
          "metadata": {},
          "execution_count": 17
        }
      ]
    },
    {
      "cell_type": "code",
      "source": [
        "classes = [\"cp\", \"me\", \"mp\", \"nl\"]\n",
        "name = \"ResNet50 Confusion matrix\""
      ],
      "metadata": {
        "id": "nyA4Sw_7GAXa"
      },
      "execution_count": null,
      "outputs": []
    },
    {
      "cell_type": "code",
      "source": [
        "def plot_confusion_matrix(cm,\n",
        "                          classes,\n",
        "                          name,\n",
        "                          cmap,\n",
        "                          normalize=False,\n",
        "                          title='ResNet50 Confusion matrix'):\n",
        "\n",
        "    #plt.figure(figsize=(6,3))\n",
        "    plt.subplot(1,3,3)\n",
        "    plt.imshow(cm, interpolation='nearest', cmap=cmap)\n",
        "    plt.title(name)\n",
        "    plt.colorbar()\n",
        "    tick_marks = np.arange(len(classes))\n",
        "    plt.xticks(tick_marks, classes, rotation=45, weight = 'bold')\n",
        "    plt.yticks(tick_marks, classes, weight = 'bold')\n",
        "\n",
        "    if normalize:\n",
        "        cm = cm.astype('float') / cm.sum(axis=1)[:, np.newaxis]\n",
        "    thresh = cm.max() / 2.\n",
        "    for i, j in itertools.product(range(cm.shape[0]), range(cm.shape[1])):\n",
        "        plt.text(j, i, cm[i, j],\n",
        "                 horizontalalignment=\"center\",\n",
        "                 color=\"white\" if cm[i, j] > thresh else \"black\")\n",
        "    plt.tight_layout()\n",
        "    plt.ylabel('True Labels', fontweight='bold')\n",
        "    plt.xlabel('Predicted Labels', fontweight='bold')\n"
      ],
      "metadata": {
        "id": "WpgzDZXhGAXb"
      },
      "execution_count": null,
      "outputs": []
    },
    {
      "cell_type": "code",
      "source": [
        "def create_confusion_matrix(cm_plot_labels, name, y_true,y_pred, map_col):\n",
        "    #Get the true and predicted labels\n",
        "    y_predict_classes, y_true_classes = y_pred,y_true\n",
        "\n",
        "    #Compute the confusion matrix\n",
        "    confusion_matrix_computed = confusion_matrix(y_true_classes, y_predict_classes)\n",
        "\n",
        "    #Plot the confusion matrix\n",
        "    plot_confusion_matrix(confusion_matrix_computed, cm_plot_labels, name, map_col)\n",
        "    # plot_confusion_matrix(conf_mat=confusion_matrix_computed, class_names=cm_plot_labels)\n"
      ],
      "metadata": {
        "id": "UB98UUgpGAXb"
      },
      "execution_count": null,
      "outputs": []
    },
    {
      "cell_type": "code",
      "source": [
        "predictions = np.array([])\n",
        "labels =  np.array([])\n",
        "for x, y in test_data:\n",
        "  predictions = np.concatenate([predictions, np.argmax(model.predict(x), axis = -1)])\n",
        "  labels = np.concatenate([labels, np.argmax(y.numpy(), axis=-1)])\n",
        "\n"
      ],
      "metadata": {
        "colab": {
          "base_uri": "https://localhost:8080/"
        },
        "outputId": "6891e78e-c4c6-4a3c-b59b-d3dc410d4334",
        "id": "QvzKBhmgGAXb"
      },
      "execution_count": null,
      "outputs": [
        {
          "output_type": "stream",
          "name": "stdout",
          "text": [
            "1/1 [==============================] - 0s 33ms/step\n",
            "1/1 [==============================] - 0s 40ms/step\n",
            "1/1 [==============================] - 0s 32ms/step\n",
            "1/1 [==============================] - 0s 48ms/step\n",
            "1/1 [==============================] - 0s 55ms/step\n",
            "1/1 [==============================] - 0s 44ms/step\n"
          ]
        }
      ]
    },
    {
      "cell_type": "code",
      "source": [
        "import keras\n",
        "from matplotlib import pyplot as plt\n",
        "\n",
        "plt.subplots(figsize=(11.5,3))\n",
        "plt.subplot(1,3,1)\n",
        "plt.plot(history.history['accuracy'])\n",
        "plt.plot(history.history['val_accuracy'])\n",
        "plt.title('ResNet50 Model Accuracy')\n",
        "plt.ylabel('Accuracy')\n",
        "plt.xlabel('Number of Epochs')\n",
        "plt.legend(['Train_Acc', 'Val_Acc'], loc='lower right')\n",
        "\n",
        "plt.subplot(1,3,2)\n",
        "plt.plot(history.history['loss'])\n",
        "plt.plot(history.history['val_loss'])\n",
        "plt.title('ResNet50 Model Loss')\n",
        "plt.ylabel('Loss')\n",
        "plt.xlabel('Number of Epochs')\n",
        "plt.legend(['Train_Loss', 'Val_Loss'], loc='upper right')\n",
        "\n",
        "create_confusion_matrix(classes, name, labels, predictions, 'Greens')"
      ],
      "metadata": {
        "colab": {
          "base_uri": "https://localhost:8080/",
          "height": 245
        },
        "outputId": "f903a29e-59fc-471c-a46d-5b28e9745152",
        "id": "-lFXaWByGAXa"
      },
      "execution_count": null,
      "outputs": [
        {
          "output_type": "stream",
          "name": "stderr",
          "text": [
            "<ipython-input-38-bb4e1ef39777>:5: MatplotlibDeprecationWarning: Auto-removal of overlapping axes is deprecated since 3.6 and will be removed two minor releases later; explicitly call ax.remove() as needed.\n",
            "  plt.subplot(1,3,1)\n"
          ]
        },
        {
          "output_type": "display_data",
          "data": {
            "text/plain": [
              "<Figure size 1150x300 with 4 Axes>"
            ],
            "image/png": "[encoded data removed]"
          },
          "metadata": {}
        }
      ]
    }
  ]
}